{
  "cells": [
    {
      "cell_type": "markdown",
      "metadata": {
        "id": "5d7f9d6b-2046-454f-aaa9-645fbd4d6106"
      },
      "source": [
        "# Algorithm1\n"
      ],
      "id": "5d7f9d6b-2046-454f-aaa9-645fbd4d6106"
    },
    {
      "cell_type": "code",
      "execution_count": null,
      "metadata": {
        "id": "e5a193dc-c678-4a85-b048-9f2f16b1a593"
      },
      "outputs": [],
      "source": [
        "import numpy as np\n",
        "import math\n",
        "import matplotlib\n",
        "from matplotlib import pyplot as plt\n",
        "from matplotlib import rc\n",
        "from numpy import asarray\n",
        "from numpy import savetxt\n",
        "from numpy.lib.arraypad import pad"
      ],
      "id": "e5a193dc-c678-4a85-b048-9f2f16b1a593"
    },
    {
      "cell_type": "markdown",
      "metadata": {
        "id": "7761ac50-c8e4-44ca-812a-a35b940490af"
      },
      "source": [
        "## Handling Parameters\n",
        "\n"
      ],
      "id": "7761ac50-c8e4-44ca-812a-a35b940490af"
    },
    {
      "cell_type": "markdown",
      "metadata": {
        "id": "TEqQESC87ThB"
      },
      "source": [
        "N is the number of machines (integer) - Machines' numbers range between 0 to N-1.\n",
        "We exclude the attacker from the machines.\n",
        "\n",
        "N_and_or_machine (AndOr), is a binary numpy array. Column \"i\" is equal \"1\", if and only if \"i\"-th machine is an AND-Machine.\n",
        "\n",
        "weighted_BAG is an NxN numpy array. Filled with Rho_{ij}s.\n",
        "boolean_BAG is an NxN numpy array. Showing the directed connectivity between nodes.\n",
        "\n",
        "There are some leafs wich are only compromised directly by the attacker itself. So we have Rho_{l}s not in the BAG we mentioned, but in another\n",
        "Nx1 numpy array: leaf_rhos\n",
        "\n",
        "When we have a directed edge from machine i to j (Showing that j is exploitable via i), we put the corresponding Rho_{ij} at i-th row, j-th column of the matrix.\n",
        "\n",
        "\"O\" is the set of observable machines. (given as a numpy array)\n",
        "\"m\" is the number of observable machines, equal to \"o\" 's size.\n",
        "\n",
        "\"q\" is the probability of not ditecting (missing) a compromised machine during an observation.\n",
        "\n",
        "\"A\" is a matrix filled with the boolean representation of all states. (from $0$ to $2^N-1$).\n",
        "\n",
        "**Assumptions:**\n",
        "\n",
        "* It is different that you have a Rho_ij = 0 or there is no connection from \"i\" to \"j\". This is the reason we defined boolean_BAG.\n",
        "* Here we assume that a \"zero\" in boolean_BAG, means there are no connections from \"i\" to \"j\".\n",
        "* We also assume that there is at most one directed-edge from any \"i\" to any \"j\". (Or we have to reconsider our BAG structure.)"
      ],
      "id": "TEqQESC87ThB"
    },
    {
      "cell_type": "code",
      "execution_count": null,
      "metadata": {
        "id": "3cce2f59-ea4d-4ab3-8bc4-d44ac7291f98"
      },
      "outputs": [],
      "source": [
        "# Global variables. (Edit: use them localy)\n",
        "global N, AndOr, weighted_BAG, boolean_BAG, leaf_rhos, m, O, q, raw_Als, A\n",
        "def set_parameters(N_and_or_machine, weighted_BAGi, leaf_rhosi, qi, boolean_BAGi=None , Oi=None):\n",
        "    global N, AndOr, weighted_BAG, boolean_BAG, leaf_rhos, m, O, q, A\n",
        "    N = len(N_and_or_machine)\n",
        "    AndOr = N_and_or_machine\n",
        "    weighted_BAG = weighted_BAGi\n",
        "    # Observer items\n",
        "    if Oi is not None:\n",
        "        m = len(Oi)\n",
        "        O = Oi\n",
        "    # Boolean BAG\n",
        "    if boolean_BAGi is None:\n",
        "        boolean_BAG = np.copy(weighted_BAG)\n",
        "        boolean_BAG[boolean_BAG > 0] = 1\n",
        "    else:\n",
        "        boolean_BAG = boolean_BAGi\n",
        "    leaf_rhos = leaf_rhosi\n",
        "    # Missing rate\n",
        "    q = qi\n",
        "    A = pre_process_A(N)\n",
        "    return"
      ],
      "id": "3cce2f59-ea4d-4ab3-8bc4-d44ac7291f98"
    },
    {
      "cell_type": "markdown",
      "metadata": {
        "id": "e678cb17-a544-457f-abd4-4878c869f8fd"
      },
      "source": [
        "## AL Generating\n",
        "\n",
        "This process helps us with the calculation of the update_vector's elements.\n",
        "For AND-Machines it can be pre-processed. For OR-Machines, needs to be calculated while previous state is given."
      ],
      "id": "e678cb17-a544-457f-abd4-4878c869f8fd"
    },
    {
      "cell_type": "code",
      "execution_count": null,
      "metadata": {
        "id": "2e15e754-045b-4c15-826e-1b2d53a1f0cd"
      },
      "outputs": [],
      "source": [
        "def pre_process_Al():\n",
        "    global weighted_BAG, AndOr, raw_Als\n",
        "    raw_Als = np.zeros(N)\n",
        "    for l in range(N):\n",
        "\n",
        "        #if L is AND-Machine:\n",
        "        if AndOr[l]:\n",
        "            ### debug\n",
        "            raw_Als[l] = np.prod(weighted_BAG[np.nonzero(weighted_BAG[:,l]),l])\n",
        "\n",
        "        #if L is OR-Machine:\n",
        "        #else:\n",
        "            ### debug\n",
        "            ### OR machines are not good with pre-processing!\n",
        "            #raw_Als[l] = 1 - np.prod(1 - weighted_BAG[np.nonzero(weighted_BAG[:,l]),l])\n",
        "    return raw_Als\n",
        "\n",
        "# We have to calculate this for every X_prev. On the other hand, pre_processed_Al is independant of states.\n",
        "def set_Als(raw_Als, X_prev):\n",
        "    Als = np.zeros(N)\n",
        "    for l in range(N):\n",
        "\n",
        "        #if L is AND-Machine:\n",
        "        if AndOr[l]:\n",
        "            ### debug\n",
        "            # Als[l] = raw_Als * np.all(X_prev & (boolean_BAG[:,l] == True))\n",
        "            weighted_BAG_col = weighted_BAG[:, l]\n",
        "            Als[l] = np.prod((weighted_BAG_col[boolean_BAG[:,l] == True]) * (X_prev[boolean_BAG[:,l] == True]))\n",
        "\n",
        "\n",
        "        #if L is OR-Machine:\n",
        "        else:\n",
        "            ### debug\n",
        "            # print(weighted_BAG[:, l] * (boolean_BAG[:,l] == False))\n",
        "            # print((X_prev *(boolean_BAG[:,l] == True)))\n",
        "            # Als[l] = 1 - np.prod(1 - (weighted_BAG[:, l] * (boolean_BAG[:,l] == False)) * (X_prev *(boolean_BAG[:,l] == True)))\n",
        "            weighted_BAG_col = weighted_BAG[:, l]\n",
        "            Als[l] = 1 - np.prod(1 - ( weighted_BAG_col[boolean_BAG[:,l] == True]) * (X_prev[boolean_BAG[:,l] == True]))\n",
        "\n",
        "    return Als\n"
      ],
      "id": "2e15e754-045b-4c15-826e-1b2d53a1f0cd"
    },
    {
      "cell_type": "markdown",
      "metadata": {
        "id": "f4d85a7e-dd98-4192-ae75-31774f32e0f1"
      },
      "source": [
        "## Boolean Array - Integer"
      ],
      "id": "f4d85a7e-dd98-4192-ae75-31774f32e0f1"
    },
    {
      "cell_type": "code",
      "execution_count": null,
      "metadata": {
        "colab": {
          "base_uri": "https://localhost:8080/"
        },
        "id": "4c38b7f4-ab7a-4de9-b13e-c1fd8f5aedc8",
        "outputId": "72fcc5b8-4b29-4ad7-e29c-7bafbb5abe88"
      },
      "outputs": [
        {
          "output_type": "stream",
          "name": "stdout",
          "text": [
            "[[0. 0. 0. 0. 0. 0. 0. 0. 0. 0. 0. 0. 0. 0. 0. 0. 1. 1. 1. 1. 1. 1. 1. 1.\n",
            "  1. 1. 1. 1. 1. 1. 1. 1.]\n",
            " [0. 0. 0. 0. 0. 0. 0. 0. 1. 1. 1. 1. 1. 1. 1. 1. 0. 0. 0. 0. 0. 0. 0. 0.\n",
            "  1. 1. 1. 1. 1. 1. 1. 1.]\n",
            " [0. 0. 0. 0. 1. 1. 1. 1. 0. 0. 0. 0. 1. 1. 1. 1. 0. 0. 0. 0. 1. 1. 1. 1.\n",
            "  0. 0. 0. 0. 1. 1. 1. 1.]\n",
            " [0. 0. 1. 1. 0. 0. 1. 1. 0. 0. 1. 1. 0. 0. 1. 1. 0. 0. 1. 1. 0. 0. 1. 1.\n",
            "  0. 0. 1. 1. 0. 0. 1. 1.]\n",
            " [0. 1. 0. 1. 0. 1. 0. 1. 0. 1. 0. 1. 0. 1. 0. 1. 0. 1. 0. 1. 0. 1. 0. 1.\n",
            "  0. 1. 0. 1. 0. 1. 0. 1.]]\n"
          ]
        }
      ],
      "source": [
        "def int_to_N_boolean_digits_npArray(pre, N, curr= None):\n",
        "\n",
        "    if curr is None:\n",
        "        t = bin(pre)\n",
        "        t = t[2:] # bin function output's format has a \"0b\" at the beginning. We omit it here.\n",
        "        # res_pre = np.zeros(N).astype(np.int32)\n",
        "        res_pre = np.full(N, False)\n",
        "\n",
        "        for i in range(0, N):\n",
        "            if i < N - len(t):\n",
        "                res_pre[i] = 0\n",
        "            else:\n",
        "                res_pre[i] = int(t[i - N + len(t)]) # Since t elements are characters, t[i] is always true. It has to be converted to int then bool.\n",
        "        return res_pre\n",
        "\n",
        "    else:\n",
        "        t = bin(pre)\n",
        "        t = t[2:] # bin function output's format has a \"0b\" at the beginning. We omit it here.\n",
        "        s = bin(curr)\n",
        "        s = s[2:] # bin function output's format has a \"0b\" at the beginning. We omit it here.\n",
        "        res_pre = np.full(N, False)\n",
        "        res_curr = np.full(N, False)\n",
        "        for i in range(0, N):\n",
        "            if i < N - len(t):\n",
        "                res_pre[i] = 0\n",
        "            else:\n",
        "                res_pre[i] = int(t[i - N + len(t)]) # Since t elements are characters, t[i] is always true. It has to be converted to int then bool.\n",
        "            if i < N - len(s):\n",
        "                res_curr[i] = 0\n",
        "            else:\n",
        "                res_curr[i] = int(s[i - N + len(s)]) # Since t elements are characters, t[i] is always true. It has to be converted to int then bool.\n",
        "\n",
        "        return res_pre, res_curr\n",
        "\n",
        "        #print(y[-i])#\n",
        "\n",
        "def pre_process_A(N):\n",
        "  A = np.zeros([N , 2**N])\n",
        "  for i in range(0, 2**N):\n",
        "      binary = int_to_N_boolean_digits_npArray(i, N, curr= None)\n",
        "      A[:, i] = binary\n",
        "  return A\n",
        "\n",
        "print(pre_process_A(5))"
      ],
      "id": "4c38b7f4-ab7a-4de9-b13e-c1fd8f5aedc8"
    },
    {
      "cell_type": "markdown",
      "metadata": {
        "id": "01cd976b-24c7-4fc3-a0d9-07c4c31e75cf"
      },
      "source": [
        "## Generating transition matrix"
      ],
      "id": "01cd976b-24c7-4fc3-a0d9-07c4c31e75cf"
    },
    {
      "cell_type": "code",
      "execution_count": null,
      "metadata": {
        "id": "1cfc5e19-e06c-4c42-910e-791356703b19"
      },
      "outputs": [],
      "source": [
        "# Calculates the whole transition matrix when X_curr || X_prev == None\n",
        "# Calculates the X_curr-th row X_prev-th column of transition matrix when X_curr,X_prev != -1\n",
        "# What is the format of X_curr, X_prev? One dimensional numpy arrays of size N.\n",
        "# ****************** Somewhere you should gain/call raw_Als. Outside this method.\n",
        "\n",
        "# def gain_transition_matrix(X_curr=None, X_prev=None):\n",
        "#     global raw_Als\n",
        "#     if X_curr is None or X_prev is None:\n",
        "#         # Set arrays\n",
        "#         transition_matrix = np.zeros((2**N, 2**N))\n",
        "#         res = np.zeros(N)\n",
        "#         # Calculate each element\n",
        "#         for pre in range(2**N):\n",
        "#             for curr in range(2**N):\n",
        "#                 X_prev = A[:, pre]\n",
        "#                 X_curr = A[:, curr]\n",
        "#                 # Sum of columns should be 1: Pre is Col, Curr is Row.\n",
        "#                 transition_matrix[curr][pre] = gain_transition_matrix(X_curr, X_prev)\n",
        "#         return transition_matrix\n",
        "\n",
        "#     # Transition Matrix at row [X_prev], col [X_curr]:\n",
        "#     # Returns a real number. Probability of being in current state, given our previous state.\n",
        "\n",
        "#     else:\n",
        "#         res = np.zeros(N)\n",
        "#         Als = set_Als(raw_Als, X_prev)\n",
        "#         prob_successfuly_compromised = Als * (1-leaf_rhos) + leaf_rhos\n",
        "#         # print(\"prob:\" + str(prob_successfuly_compromised))\n",
        "#         # print(\"THis is Als for \" + str(X_prev))\n",
        "#         # print(Als)\n",
        "#         # pre = 0, curr = 0\n",
        "#         res[(X_prev==0) & (X_curr == 0)] = 1 - prob_successfuly_compromised[(X_prev==0) & (X_curr == 0)]\n",
        "#         # pre = 0, curr = 1\n",
        "#         res[(X_prev==0) & (X_curr == 1)] = prob_successfuly_compromised[(X_prev==0) & (X_curr == 1)]\n",
        "#         # pre = 1, curr = 0\n",
        "#         #res[(X_prev==1) & (X_curr == 0)] = 0\n",
        "#         # pre = 1, curr = 1\n",
        "#         res[(X_prev==1) & (X_curr == 1)] = 1\n",
        "#         probability_of_state_transition = np.prod(res)\n",
        "\n",
        "#         return probability_of_state_transition\n",
        ""
      ],
      "id": "1cfc5e19-e06c-4c42-910e-791356703b19"
    },
    {
      "cell_type": "markdown",
      "metadata": {
        "id": "9sFmLFb98NT_"
      },
      "source": [
        "**New Code Examine for Transition Matrix:**"
      ],
      "id": "9sFmLFb98NT_"
    },
    {
      "cell_type": "code",
      "execution_count": null,
      "metadata": {
        "id": "hZUXeqvX8RBf"
      },
      "outputs": [],
      "source": [
        "# Calculates the whole transition matrix when X_curr || X_prev == None\n",
        "# Calculates the X_curr-th row X_prev-th column of transition matrix when X_curr,X_prev != -1\n",
        "# What is the format of X_curr, X_prev? One dimensional numpy arrays of size N.\n",
        "# ****************** Somewhere you should gain/call raw_Als. Outside this method.\n",
        "\n",
        "def gain_transition_matrix(X_curr=None, X_prev=None):\n",
        "    global raw_Als\n",
        "      # Set arrays\n",
        "    transition_matrix = np.zeros((2**N, 2**N))\n",
        "    res = np.zeros(N)\n",
        "    # Calculate each element\n",
        "    for pre in range(2**N):\n",
        "        for curr in range(2**N):\n",
        "            X_prev = A[:, pre]\n",
        "            X_curr = A[:, curr]\n",
        "            # Sum of columns should be 1: Pre is Col, Curr is Row.\n",
        "            res = np.zeros(N)\n",
        "            Als = set_Als(raw_Als, X_prev)\n",
        "            prob_successfuly_compromised = Als * (1-leaf_rhos) + leaf_rhos\n",
        "            # print(\"prob:\" + str(prob_successfuly_compromised))\n",
        "            # print(\"THis is Als for \" + str(X_prev))\n",
        "            # print(Als)\n",
        "            # pre = 0, curr = 0\n",
        "            res[(X_prev==0) & (X_curr == 0)] = 1 - prob_successfuly_compromised[(X_prev==0) & (X_curr == 0)]\n",
        "            # pre = 0, curr = 1\n",
        "            res[(X_prev==0) & (X_curr == 1)] = prob_successfuly_compromised[(X_prev==0) & (X_curr == 1)]\n",
        "            # pre = 1, curr = 0\n",
        "            #res[(X_prev==1) & (X_curr == 0)] = 0\n",
        "            # pre = 1, curr = 1\n",
        "            res[(X_prev==1) & (X_curr == 1)] = 1\n",
        "            probability_of_state_transition = np.prod(res)\n",
        "            transition_matrix[curr][pre] = probability_of_state_transition\n",
        "\n",
        "    return transition_matrix\n",
        "\n",
        "  # Transition Matrix at row [X_prev], col [X_curr]:\n",
        "  # Returns a real number. Probability of being in current state, given our previous state."
      ],
      "id": "hZUXeqvX8RBf"
    },
    {
      "cell_type": "code",
      "execution_count": null,
      "metadata": {
        "id": "6MoAGhsn8M5P"
      },
      "outputs": [],
      "source": [],
      "id": "6MoAGhsn8M5P"
    },
    {
      "cell_type": "markdown",
      "metadata": {
        "id": "1465f186-f053-47c1-a0f2-90fbb647c3d2"
      },
      "source": [
        "## Generating Update Vector"
      ],
      "id": "1465f186-f053-47c1-a0f2-90fbb647c3d2"
    },
    {
      "cell_type": "code",
      "execution_count": null,
      "metadata": {
        "id": "e6f7a8dd-dc39-4d29-a432-73978f268dd5"
      },
      "outputs": [],
      "source": [
        "from numpy.lib.function_base import append\n",
        "def gain_update_vector(Y_curr, a_pre=None):\n",
        "    if a_pre is None:\n",
        "        a_pre = np.arange(0, N, 1, dtype=np.int32)\n",
        "    Y_curr = np.reshape(Y_curr, (N, 1))\n",
        "    Y_curr_all_col = np.matmul(Y_curr, np.full((1, 2**N), 1))\n",
        "    # print(Y_curr_all_col)\n",
        "    partially_observed_res = np.abs((-1+q)*A[a_pre,:] - Y_curr_all_col[a_pre] + 1)\n",
        "    update_vector = np.prod(partially_observed_res, axis=0)\n",
        "    # print(\"update vector is: \")\n",
        "    # print(update_vector)\n",
        "    return update_vector"
      ],
      "id": "e6f7a8dd-dc39-4d29-a432-73978f268dd5"
    },
    {
      "cell_type": "code",
      "execution_count": null,
      "metadata": {
        "id": "aN_uwW5LNQQ4"
      },
      "outputs": [],
      "source": [
        "# Y_curr = np.full((N, 1),1)\n",
        "# Y_curr_all_col = np.matmul(Y_curr, np.full((1, 2**N), 1))\n",
        "\n",
        "# partially_observed_res=np.abs((-1+q)*A[[],:] - Y_curr_all_col[[]] + 1)\n",
        "# update_vector = np.prod(partially_observed_res, axis=0)\n",
        "\n",
        "# print(update_vector)\n"
      ],
      "id": "aN_uwW5LNQQ4"
    },
    {
      "cell_type": "code",
      "execution_count": null,
      "metadata": {
        "colab": {
          "base_uri": "https://localhost:8080/"
        },
        "id": "Huuis321Edsg",
        "outputId": "6467758a-5d1b-4281-eb79-ab8836f8a973"
      },
      "outputs": [
        {
          "output_type": "stream",
          "name": "stdout",
          "text": [
            "[ 12  46 129 180]\n",
            "(2, 4)\n"
          ]
        }
      ],
      "source": [
        "x = np.array([[12, 23, 43, 45], [1, 2, 3, 4]])\n",
        "print(np.prod(x, axis=0))\n",
        "print(np.shape(x))"
      ],
      "id": "Huuis321Edsg"
    },
    {
      "cell_type": "markdown",
      "metadata": {
        "id": "IAybFoKJNxbQ"
      },
      "source": [
        "# Test Cases"
      ],
      "id": "IAybFoKJNxbQ"
    },
    {
      "cell_type": "markdown",
      "metadata": {
        "id": "PwlCdXLsn5sC"
      },
      "source": [
        "### Given Example 13 Machines\n"
      ],
      "id": "PwlCdXLsn5sC"
    },
    {
      "cell_type": "code",
      "execution_count": null,
      "metadata": {
        "id": "6Fo50CaWn5sD"
      },
      "outputs": [],
      "source": [
        "smp1_wb = np.array([[0, 0, 0, 0, 0.5, 0, 0, 0, 0, 0, 0, 0, 0],\n",
        "                 [ 0.6, 0, 0, 0, 0.5, 0.3, 0, 0, 0, 0, 0, 0, 0],\n",
        "                 [ 0, 0, 0, 0, 0, 0.3, 0.2, 0, 0, 0.1, 0, 0, 0],\n",
        "                 [ 0, 0, 0.4, 0, 0, 0, 0, 0, 0, 0, 0, 0.4, 0],\n",
        "                 [ 0, 0, 0, 0, 0, 0.3, 0, 0.3, 0.2, 0, 0, 0, 0],\n",
        "                 [ 0, 0, 0, 0, 0, 0, 0, 0.3, 0, 0, 0, 0, 0],\n",
        "                 [ 0, 0, 0, 0, 0, 0, 0, 0, 0, 0, 0, 0.4, 0],\n",
        "                 [ 0, 0, 0, 0, 0, 0, 0.2, 0, 0.2, 0, 0, 0.4, 0],\n",
        "                 [ 0, 0, 0, 0, 0, 0, 0, 0, 0, 0, 0, 0, 0],\n",
        "                 [ 0, 0, 0, 0, 0, 0, 0, 0, 0, 0, 0, 0.4, 0],\n",
        "                 [ 0, 0, 0, 0, 0, 0, 0, 0, 0.2, 0, 0, 0.4, 0],\n",
        "                 [ 0, 0, 0, 0, 0, 0, 0, 0, 0, 0, 0, 0, 0.8],\n",
        "                 [ 0, 0, 0, 0.7, 0, 0, 0, 0, 0, 0, 0.6, 0, 0]], dtype= np.float64)\n",
        "smp1_lr = np.array([0.6, 0.5, 0.4, 0.7, 0, 0.3, 0, 0, 0, 0, 0, 0, 0])\n",
        "# What are AND/OR s?\n",
        "smp1_andor = np.array([1, 0, 1, 0, 1, 1, 0, 0, 1, 0, 0, 1, 1], dtype= np.bool_)\n",
        "smp1_q = 0.2\n",
        "smp1_o = np.array([0, 1, 2, 3, 4, 5, 6, 7, 8, 9, 10, 11, 12], dtype= np.int32)\n",
        "# print(smp1_wb)\n",
        "# print()\n",
        "# print(smp1_andor)"
      ],
      "id": "6Fo50CaWn5sD"
    },
    {
      "cell_type": "code",
      "execution_count": null,
      "metadata": {
        "colab": {
          "base_uri": "https://localhost:8080/"
        },
        "id": "JY00rGxsBmSQ",
        "outputId": "b5537b35-dfb5-4954-e7d2-629b27da6702"
      },
      "outputs": [
        {
          "output_type": "stream",
          "name": "stdout",
          "text": [
            "[[0.  0.  0.  0.  0.5 0.  0.  0.  0.  0.  0.  0.  0. ]\n",
            " [0.6 0.  0.  0.  0.5 0.3 0.  0.  0.  0.  0.  0.  0. ]\n",
            " [0.  0.  0.  0.  0.  0.3 0.2 0.  0.  0.1 0.  0.  0. ]\n",
            " [0.  0.  0.4 0.  0.  0.  0.  0.  0.  0.  0.  0.4 0. ]\n",
            " [0.  0.  0.  0.  0.  0.3 0.  0.3 0.2 0.  0.  0.  0. ]\n",
            " [0.  0.  0.  0.  0.  0.  0.  0.3 0.  0.  0.  0.  0. ]\n",
            " [0.  0.  0.  0.  0.  0.  0.  0.  0.  0.  0.  0.4 0. ]\n",
            " [0.  0.  0.  0.  0.  0.  0.2 0.  0.2 0.  0.  0.4 0. ]\n",
            " [0.  0.  0.  0.  0.  0.  0.  0.  0.  0.  0.  0.  0. ]\n",
            " [0.  0.  0.  0.  0.  0.  0.  0.  0.  0.  0.  0.4 0. ]\n",
            " [0.  0.  0.  0.  0.  0.  0.  0.  0.2 0.  0.  0.4 0. ]\n",
            " [0.  0.  0.  0.  0.  0.  0.  0.  0.  0.  0.  0.  0.8]\n",
            " [0.  0.  0.  0.7 0.  0.  0.  0.  0.  0.  0.6 0.  0. ]]\n"
          ]
        }
      ],
      "source": [
        "print(smp1_wb)"
      ],
      "id": "JY00rGxsBmSQ"
    },
    {
      "cell_type": "code",
      "execution_count": null,
      "metadata": {
        "colab": {
          "base_uri": "https://localhost:8080/"
        },
        "id": "NwXT8k9Jn5sE",
        "outputId": "49c8820d-96bd-444b-ce63-ddfd31680503"
      },
      "outputs": [
        {
          "output_type": "stream",
          "name": "stdout",
          "text": [
            "[ True False  True False  True  True False False  True False False  True\n",
            "  True]\n",
            "[[0.  0.  0.  0.  0.5 0.  0.  0.  0.  0.  0.  0.  0. ]\n",
            " [0.6 0.  0.  0.  0.5 0.3 0.  0.  0.  0.  0.  0.  0. ]\n",
            " [0.  0.  0.  0.  0.  0.3 0.2 0.  0.  0.1 0.  0.  0. ]\n",
            " [0.  0.  0.4 0.  0.  0.  0.  0.  0.  0.  0.  0.4 0. ]\n",
            " [0.  0.  0.  0.  0.  0.3 0.  0.3 0.2 0.  0.  0.  0. ]\n",
            " [0.  0.  0.  0.  0.  0.  0.  0.3 0.  0.  0.  0.  0. ]\n",
            " [0.  0.  0.  0.  0.  0.  0.  0.  0.  0.  0.  0.4 0. ]\n",
            " [0.  0.  0.  0.  0.  0.  0.2 0.  0.2 0.  0.  0.4 0. ]\n",
            " [0.  0.  0.  0.  0.  0.  0.  0.  0.  0.  0.  0.  0. ]\n",
            " [0.  0.  0.  0.  0.  0.  0.  0.  0.  0.  0.  0.4 0. ]\n",
            " [0.  0.  0.  0.  0.  0.  0.  0.  0.2 0.  0.  0.4 0. ]\n",
            " [0.  0.  0.  0.  0.  0.  0.  0.  0.  0.  0.  0.  0.8]\n",
            " [0.  0.  0.  0.7 0.  0.  0.  0.  0.  0.  0.6 0.  0. ]]\n",
            "[[0. 0. 0. 0. 1. 0. 0. 0. 0. 0. 0. 0. 0.]\n",
            " [1. 0. 0. 0. 1. 1. 0. 0. 0. 0. 0. 0. 0.]\n",
            " [0. 0. 0. 0. 0. 1. 1. 0. 0. 1. 0. 0. 0.]\n",
            " [0. 0. 1. 0. 0. 0. 0. 0. 0. 0. 0. 1. 0.]\n",
            " [0. 0. 0. 0. 0. 1. 0. 1. 1. 0. 0. 0. 0.]\n",
            " [0. 0. 0. 0. 0. 0. 0. 1. 0. 0. 0. 0. 0.]\n",
            " [0. 0. 0. 0. 0. 0. 0. 0. 0. 0. 0. 1. 0.]\n",
            " [0. 0. 0. 0. 0. 0. 1. 0. 1. 0. 0. 1. 0.]\n",
            " [0. 0. 0. 0. 0. 0. 0. 0. 0. 0. 0. 0. 0.]\n",
            " [0. 0. 0. 0. 0. 0. 0. 0. 0. 0. 0. 1. 0.]\n",
            " [0. 0. 0. 0. 0. 0. 0. 0. 1. 0. 0. 1. 0.]\n",
            " [0. 0. 0. 0. 0. 0. 0. 0. 0. 0. 0. 0. 1.]\n",
            " [0. 0. 0. 1. 0. 0. 0. 0. 0. 0. 1. 0. 0.]]\n",
            "0.2\n",
            "13\n"
          ]
        },
        {
          "output_type": "execute_result",
          "data": {
            "text/plain": [
              "array([0.6    , 0.     , 0.4    , 0.     , 0.25   , 0.027  , 0.     ,\n",
              "       0.     , 0.008  , 0.     , 0.     , 0.01024, 0.8    ])"
            ]
          },
          "metadata": {},
          "execution_count": 12
        }
      ],
      "source": [
        "set_parameters(N_and_or_machine= smp1_andor, weighted_BAGi= smp1_wb, leaf_rhosi=smp1_lr, boolean_BAGi=None , Oi=smp1_o, qi= smp1_q)\n",
        "print(AndOr)\n",
        "print(weighted_BAG)\n",
        "print(boolean_BAG)\n",
        "print(q)\n",
        "print(N)\n",
        "pre_process_Al()"
      ],
      "id": "NwXT8k9Jn5sE"
    },
    {
      "cell_type": "markdown",
      "metadata": {
        "id": "xnApWkhxE5Ic"
      },
      "source": [
        "# Main"
      ],
      "id": "xnApWkhxE5Ic"
    },
    {
      "cell_type": "markdown",
      "metadata": {
        "id": "Hd_4S6EilLf4"
      },
      "source": [
        "## Transition Matrix"
      ],
      "id": "Hd_4S6EilLf4"
    },
    {
      "cell_type": "code",
      "execution_count": null,
      "metadata": {
        "id": "ef2b0792-3468-4cd3-abec-55e2aeb59e9d"
      },
      "outputs": [],
      "source": [
        "try:\n",
        "  transition_matrix = np.load('transition_matrix.npy')\n",
        "  print(\"transition matrix has been loaded.\")\n",
        "except:\n",
        "  transition_matrix = np.copy(gain_transition_matrix())\n",
        "  np.save('transition_matrix.npy', transition_matrix)\n",
        "  print(\"transition matrix has been created (not loaded).\")\n",
        "  pass\n",
        "  \"print(transition_matrix)\"\n"
      ],
      "id": "ef2b0792-3468-4cd3-abec-55e2aeb59e9d"
    },
    {
      "cell_type": "code",
      "execution_count": null,
      "metadata": {
        "id": "4sCjse_TPInr"
      },
      "outputs": [],
      "source": [
        "print(np.sum(transition_matrix[:,0]))"
      ],
      "id": "4sCjse_TPInr"
    },
    {
      "cell_type": "code",
      "execution_count": null,
      "metadata": {
        "id": "IjGOh6HAPewG"
      },
      "outputs": [],
      "source": [
        "print(transition_matrix[2**N-1:0]==(0.79*0.63*math.pow(0.1, 5)))\n",
        "print(0.79*0.63*math.pow(0.1, 5))"
      ],
      "id": "IjGOh6HAPewG"
    },
    {
      "cell_type": "markdown",
      "metadata": {
        "id": "AUEo7eLGnUxj"
      },
      "source": [
        "## Create and Save Original Trajectory"
      ],
      "id": "AUEo7eLGnUxj"
    },
    {
      "cell_type": "code",
      "execution_count": null,
      "metadata": {
        "colab": {
          "base_uri": "https://localhost:8080/"
        },
        "id": "e8ca4b60-ffc9-4257-900c-8d6d2d11987e",
        "outputId": "5f762605-39ee-488b-f498-30a7ad5cbbef"
      },
      "outputs": [
        {
          "output_type": "stream",
          "name": "stdout",
          "text": [
            "[0.00012207 0.00012207 0.00012207 ... 0.00012207 0.00012207 0.00012207]\n"
          ]
        }
      ],
      "source": [
        "Pi_pre = np.full(2**N, 1/2**N)\n",
        "print(Pi_pre)\n",
        "# pre is initial state of machines.\n",
        "pre = 0"
      ],
      "id": "e8ca4b60-ffc9-4257-900c-8d6d2d11987e"
    },
    {
      "cell_type": "code",
      "execution_count": null,
      "metadata": {
        "id": "b04rbScanT2j"
      },
      "outputs": [],
      "source": [
        "T = 10\n",
        "max_num = 100\n",
        "q_list = [0.2]\n",
        "X_gen = np.zeros((max_num, T, N))\n",
        "for num in range(0, max_num):\n",
        "  pre = np.random.choice(np.arange(0,2**N), p=Pi_pre)\n",
        "  for t in range(0, T):\n",
        "    X_curr = A[:, pre]\n",
        "    X_gen[num,t,:] = np.copy(X_curr)\n",
        "    curr = np.random.choice(2**N, p=transition_matrix[:, pre])\n",
        "    pre = curr\n",
        "for q in q_list:\n",
        "  XandY_list = []\n",
        "  for num in range(0, max_num):\n",
        "    XandY = []\n",
        "    for t in range(0, T):\n",
        "      X_curr = X_gen[num,t,:]\n",
        "      # If Xi == 0, we observe Yi == 0 with probability of 1.\n",
        "      # If Xi == 1, we observe Yi == 1 with probability of 1-q.\n",
        "      p = (1 - (1-q) * X_curr)\n",
        "      Y_curr = np.zeros(N)\n",
        "      for i in range(N):\n",
        "        Y_curr[i] = np.random.choice([0, 1],  p=[p[i], 1-p[i]])\n",
        "      XandY.append(np.array([X_curr, Y_curr]))\n",
        "    XandY_list.append(XandY)\n",
        "  np.save('XandY_list'+'q'+str(q)+'.npy', XandY_list)    # .npy extension is added if not given"
      ],
      "id": "b04rbScanT2j"
    },
    {
      "cell_type": "markdown",
      "metadata": {
        "id": "iQCSy3fYeWTJ"
      },
      "source": [
        "## Monitoring"
      ],
      "id": "iQCSy3fYeWTJ"
    },
    {
      "cell_type": "code",
      "execution_count": null,
      "metadata": {
        "id": "Krxc3IepeV3S"
      },
      "outputs": [],
      "source": [
        "def initiate_monitoring(mode=None, threshold=None, O=None, fixed_par= 1):\n",
        "  global m\n",
        "  if O is not None:\n",
        "    return O\n",
        "  if mode is None or mode==\"all\" or mode==\"threshold\":\n",
        "    res = np.arange(N)\n",
        "    return res\n",
        "  if mode == \"random\":\n",
        "    t = np.random.choice(a=[False, True], size=N, p=[0.5, 0.5])\n",
        "    all = np.arange(N)\n",
        "    return all[t]\n",
        "  if mode== \"fixed\":\n",
        "    # return np.random.choice(np.arange(N), size=m, replace=False)\n",
        "    return np.arange(m);\n",
        "  if mode== \"ours\" or mode== \"random_fixed\":\n",
        "    t = np.random.choice(np.arange(N), size=m, replace=False)\n",
        "    return t\n",
        "  # if fixed:"
      ],
      "id": "Krxc3IepeV3S"
    },
    {
      "cell_type": "code",
      "execution_count": null,
      "metadata": {
        "id": "9f5WTgWXoIp6"
      },
      "outputs": [],
      "source": [
        "# a = np.array([5, 4, 2, 3, 1, 9, 0])\n",
        "# x = np.argpartition(a, 1)\n",
        "# print(x)\n",
        "# y = np.argsort(a)\n",
        "# print(y)"
      ],
      "id": "9f5WTgWXoIp6"
    },
    {
      "cell_type": "code",
      "execution_count": null,
      "metadata": {
        "id": "GmlU-nPH1Gb_"
      },
      "outputs": [],
      "source": [
        "def bar(mat):\n",
        "  matrix = np.copy(mat)\n",
        "  matrix[matrix>=0.5] = 1\n",
        "  matrix[matrix<0.5] = 0\n",
        "  return matrix"
      ],
      "id": "GmlU-nPH1Gb_"
    },
    {
      "cell_type": "code",
      "execution_count": null,
      "metadata": {
        "id": "pAUdsLPledjh"
      },
      "outputs": [],
      "source": [
        "def update_monitor(O, A_Pi_pre= None, mode=None, threshold=None):\n",
        "  global m\n",
        "  if mode==None or mode==\"ours\":\n",
        "    # Preservs length\n",
        "    # a = np.copy(A_Pi_pre)\n",
        "    # b = 1 - np.copy(a)\n",
        "    # a[a>b] = b[a>b]\n",
        "    A_Pi_pre_bar = bar(A_Pi_pre)\n",
        "    # print(A_Pi_pre_bar)\n",
        "    # print(\"THIS IS A_PI_PRE INSIDE:\")\n",
        "    # print(A_Pi_pre)\n",
        "    a = np.abs(A_Pi_pre - A_Pi_pre_bar)\n",
        "    arg_sorted = np.argsort(a)\n",
        "    # N-1 is last index. N-k is kth greatest.\n",
        "    mth = a[arg_sorted[N-m]]\n",
        "    # print(mth)\n",
        "    mask = np.full(N, False)\n",
        "    mask[a == mth] = True\n",
        "    # print(mask)\n",
        "    num_eq = np.sum(mask)\n",
        "    # print(num_eq)\n",
        "    mask2 = np.full(m-1, False)\n",
        "    mask2[a[arg_sorted[N-m+1:]] == mth] = True\n",
        "    # print(mask2)\n",
        "    num_eq_aftr = np.sum(mask2)\n",
        "    aa = N - m + num_eq_aftr - num_eq + 1\n",
        "    bb = N - m + num_eq_aftr + 1\n",
        "    eq_indices = arg_sorted[aa:bb]\n",
        "    # print(eq_indices)\n",
        "    r = np.random.choice(eq_indices, num_eq_aftr+1, replace=False)\n",
        "    # print(r)\n",
        "    O = np.zeros(m, dtype=np.int32)\n",
        "    O[0:m-num_eq_aftr-1] = arg_sorted[N-m+1+num_eq_aftr:]\n",
        "    O[m-num_eq_aftr-1:] = r\n",
        "    # print(\"a is:\")\n",
        "    # print(a)\n",
        "    # print(\"O is\")\n",
        "    # print(O)\n",
        "    return O\n",
        "\n",
        "  elif mode==\"fixed\":\n",
        "    return O\n",
        "\n",
        "  elif mode==\"all\":\n",
        "    return np.arange(N)\n",
        "\n",
        "  elif mode==\"random\":\n",
        "    t = np.random.choice(a=[False, True], size=N, p=[0.5, 0.5])\n",
        "    all = np.arange(N)\n",
        "    return all[t]\n",
        "\n",
        "  elif mode==\"random_fixed\":\n",
        "    t = np.random.choice(np.arange(N), size=m, replace=False)\n",
        "    return t\n",
        "\n",
        "  elif mode==\"threshold\":\n",
        "    if threshold is None:\n",
        "      raise Exception(\"Threshold is None.\")\n",
        "    A_Pi_pre_bar = bar(A_Pi_pre)\n",
        "    a = np.abs(A_Pi_pre - A_Pi_pre_bar)\n",
        "    arg_sorted = np.argsort(a)\n",
        "    # N-1 is last index. N-k is kth greatest.\n",
        "    mth = a[arg_sorted[N-m]]\n",
        "    # print(mth)\n",
        "    mask = np.full(N, False)\n",
        "    mask[a == mth] = True\n",
        "    # print(mask)\n",
        "    num_eq = np.sum(mask)\n",
        "    # print(num_eq)\n",
        "    mask2 = np.full(m-1, False)\n",
        "    mask2[a[arg_sorted[N-m+1:]] == mth] = True\n",
        "    # print(mask2)\n",
        "    num_eq_aftr = np.sum(mask2)\n",
        "    aa = N - m + num_eq_aftr - num_eq + 1\n",
        "    bb = N - m + num_eq_aftr + 1\n",
        "    eq_indices = arg_sorted[aa:bb]\n",
        "    # print(eq_indices)\n",
        "    r = np.random.choice(eq_indices, num_eq_aftr+1, replace=False)\n",
        "    # print(r)\n",
        "    O = np.zeros(m, dtype=np.int32)\n",
        "    O[0:m-num_eq_aftr-1] = arg_sorted[N-m+1+num_eq_aftr:]\n",
        "    O[m-num_eq_aftr-1:] = r\n",
        "    res = O[a[O]> threshold]\n",
        "    # print(\"This is threshold result\")\n",
        "    # print(\"a\")\n",
        "    # print(a)\n",
        "    # print(\"O:\")\n",
        "    # print(O)\n",
        "    # print(\"a[O]\")\n",
        "    # print(a[O])\n",
        "    # print(O[a[O] > threshold])\n",
        "\n",
        "    return res\n",
        "\n",
        ""
      ],
      "id": "pAUdsLPledjh"
    },
    {
      "cell_type": "code",
      "execution_count": null,
      "metadata": {
        "colab": {
          "base_uri": "https://localhost:8080/"
        },
        "id": "ECJdunG6n4EJ",
        "outputId": "ef5b1e73-e987-4930-e237-b1691648c0d7"
      },
      "outputs": [
        {
          "output_type": "stream",
          "name": "stdout",
          "text": [
            "[ 0  1  2  3  4  5  6  7  8  9 10 11 12]\n"
          ]
        }
      ],
      "source": [
        "O = initiate_monitoring()\n",
        "print(O)"
      ],
      "id": "ECJdunG6n4EJ"
    },
    {
      "cell_type": "markdown",
      "metadata": {
        "id": "6hFpcxo2SjDl"
      },
      "source": [
        "## Evaluations"
      ],
      "id": "6hFpcxo2SjDl"
    },
    {
      "cell_type": "code",
      "execution_count": null,
      "metadata": {
        "id": "YGdbLUeVSoO9"
      },
      "outputs": [],
      "source": [
        "def evaluate(X_curr, X_est, error_list, tot_error_list, acc_list, i , T):\n",
        "      # Initialize\n",
        "      acc = 0\n",
        "      hamming = 0\n",
        "      abs = 0\n",
        "      if tot_error_list == []:\n",
        "        tot_error_list = np.zeros(T)\n",
        "      if acc_list == []:\n",
        "        acc_list = np.zeros(T)\n",
        "      # Calculation\n",
        "      if np.all(X_curr == X_est):\n",
        "        acc = 1\n",
        "      hamming = np.sum(np.abs(X_curr - X_est))\n",
        "      err = np.abs((X_curr - X_est)**2)\n",
        "      # Add to list\n",
        "      error_list.append(err)\n",
        "      tot_error_list[i] = hamming\n",
        "      acc_list[i] = acc\n",
        "      return error_list, tot_error_list, acc_list\n"
      ],
      "id": "YGdbLUeVSoO9"
    },
    {
      "cell_type": "markdown",
      "metadata": {
        "id": "JVn15KyheeF5"
      },
      "source": [
        "## Main Loop"
      ],
      "id": "JVn15KyheeF5"
    },
    {
      "cell_type": "code",
      "execution_count": null,
      "metadata": {
        "colab": {
          "base_uri": "https://localhost:8080/"
        },
        "id": "e78f9d1f-470a-474b-8713-5e4a178a4f42",
        "outputId": "b34ee328-1359-48e2-e839-9488e9ef995e"
      },
      "outputs": [
        {
          "output_type": "stream",
          "name": "stdout",
          "text": [
            "q is0.2\n"
          ]
        },
        {
          "output_type": "stream",
          "name": "stderr",
          "text": [
            "<ipython-input-55-0bd5e25768a9>:6: DeprecationWarning: elementwise comparison failed; this will raise an error in the future.\n",
            "  if tot_error_list == []:\n",
            "<ipython-input-55-0bd5e25768a9>:8: DeprecationWarning: elementwise comparison failed; this will raise an error in the future.\n",
            "  if acc_list == []:\n",
            "/usr/local/lib/python3.8/dist-packages/numpy/lib/npyio.py:528: VisibleDeprecationWarning: Creating an ndarray from ragged nested sequences (which is a list-or-tuple of lists-or-tuples-or ndarrays with different lengths or shapes) is deprecated. If you meant to do this, you must specify 'dtype=object' when creating the ndarray.\n",
            "  arr = np.asanyarray(arr)\n"
          ]
        },
        {
          "output_type": "stream",
          "name": "stdout",
          "text": [
            "q is0.2\n",
            "q is0.2\n",
            "q is0.2\n",
            "q is0.2\n",
            "q is0.2\n",
            "q is0.2\n",
            "q is0.2\n",
            "q is0.2\n",
            "q is0.2\n",
            "q is0.2\n",
            "q is0.2\n",
            "q is0.2\n",
            "q is0.2\n",
            "q is0.2\n",
            "q is0.2\n",
            "q is0.2\n",
            "q is0.2\n",
            "q is0.2\n",
            "q is0.2\n",
            "q is0.2\n",
            "q is0.2\n",
            "q is0.2\n",
            "q is0.2\n",
            "q is0.2\n",
            "q is0.2\n",
            "q is0.2\n",
            "q is0.2\n",
            "q is0.2\n",
            "q is0.2\n",
            "q is0.2\n",
            "q is0.2\n",
            "q is0.2\n"
          ]
        }
      ],
      "source": [
        "# \"T\" is the number of iterations (number of state transitions).\n",
        "T = 10; max_num = 100;\n",
        "global fixed, ours, random, alll, random_fixed, threshold\n",
        "fixed, ours, random, alll, random_fixed, threshold = [], [], [], [], [], []\n",
        "packed_for_m = []\n",
        "m_list = np.arange(3) + 1; threshold_list = [0.5, 0.45, 0.4, 0.35, 0.3, 0.25, 0.2, 0.15, 0.1, 0.05, 0]\n",
        "for alpha in threshold_list:\n",
        "  packed_for_m = []\n",
        "  for m in m_list:\n",
        "    modes = ['all', 'ours', 'threshold', 'random_fixed', 'fixed']\n",
        "    num = -1\n",
        "    XandY_list = np.load('XandY_list'+'q'+str(q)+'.npy')\n",
        "    print(\"q is\" + str(q))\n",
        "    for mode in modes:\n",
        "      num = -1\n",
        "      all_est_list, all_err_list, all_tot_err_list, all_acc_list, all_mon_list, all_MSE_list, all_MSE_each_list = [], [], [], [], [], [], []\n",
        "      for XandY in XandY_list:\n",
        "        num += 1\n",
        "        X_est_list = []\n",
        "        error_list, tot_error_list, acc_list, monitor_list, MSE_list, MSE_each_list = [], [], [], [], [], []\n",
        "        Pi_pre = np.full(2**N, 1/2**N)\n",
        "        O = initiate_monitoring(mode=mode)\n",
        "        O = update_monitor(O, A_Pi_pre=np.matmul(A, Pi_pre), mode=mode, threshold=alpha)\n",
        "        for t in range(0, T):\n",
        "            # Use trajectory\n",
        "            X_curr = XandY[t][0]\n",
        "            Y_curr = XandY[t][1]\n",
        "            nominator = gain_update_vector(Y_curr=Y_curr, a_pre= O) * Pi_pre\n",
        "            Pi_curr = nominator / np.sum(nominator)\n",
        "            X_est = np.full(N, False)\n",
        "            A_Pi_curr = np.matmul(A, Pi_curr)\n",
        "            X_est[A_Pi_curr > 0.5] = True\n",
        "            MSE_each = np.abs(A_Pi_curr - X_est)\n",
        "            MSE = np.sum(MSE_each)\n",
        "            X_est_list.append(X_est)\n",
        "            MSE_list.append(MSE)\n",
        "            MSE_each_list.append(MSE_each)\n",
        "            error_list, tot_error_list, acc_list = evaluate(X_curr, X_est, error_list, tot_error_list, acc_list, t , T)\n",
        "            Pi_pre = np.matmul(transition_matrix, np.copy(Pi_curr))\n",
        "            A_Pi_pre = np.matmul(A, Pi_pre)\n",
        "            monitor_list.append(O)\n",
        "            O = update_monitor(O, A_Pi_pre=A_Pi_pre, mode=mode, threshold=alpha)\n",
        "\n",
        "        all_est_list.append(X_est_list)\n",
        "        all_err_list.append(error_list)\n",
        "        all_tot_err_list.append(tot_error_list)\n",
        "        all_acc_list.append(acc_list)\n",
        "        all_mon_list.append(monitor_list)\n",
        "        all_MSE_list.append(MSE_list)\n",
        "        all_MSE_each_list.append(MSE_each_list)\n",
        "      if mode == 'fixed':\n",
        "        fixed = (all_est_list, all_err_list, all_tot_err_list, all_acc_list, all_mon_list, all_MSE_list, all_MSE_each_list)\n",
        "      elif mode == 'ours':\n",
        "        ours = (all_est_list, all_err_list, all_tot_err_list, all_acc_list, all_mon_list, all_MSE_list, all_MSE_each_list)\n",
        "      elif mode == 'random':\n",
        "        random = (all_est_list, all_err_list, all_tot_err_list, all_acc_list, all_mon_list, all_MSE_list, all_MSE_each_list)\n",
        "      elif mode == 'all':\n",
        "        alll = (all_est_list, all_err_list, all_tot_err_list, all_acc_list, all_mon_list, all_MSE_list, all_MSE_each_list)\n",
        "      elif mode == 'random_fixed':\n",
        "        random_fixed = (all_est_list, all_err_list, all_tot_err_list, all_acc_list, all_mon_list, all_MSE_list, all_MSE_each_list)\n",
        "      elif mode == 'threshold':\n",
        "        threshold = (all_est_list, all_err_list, all_tot_err_list, all_acc_list, all_mon_list, all_MSE_list, all_MSE_each_list)\n",
        "    packed_for_m.append((fixed, ours, random, alll, random_fixed, threshold))\n",
        "    np.save('packed_for_m'+str(m)+'a'+str(alpha)+'.npy', packed_for_m)\n",
        "\n",
        "        # print(\"Accuracy is: \" + str(np.sum(acc_list)/T))\n",
        "        # print(\"Mean tot error is: \" + str(np.sum(tot_error_list)/T))\n",
        "        # print(\"Mean error is: \" + str(np.sum(error_list)/T))\n",
        "\n",
        "\n"
      ],
      "id": "e78f9d1f-470a-474b-8713-5e4a178a4f42"
    },
    {
      "cell_type": "markdown",
      "metadata": {
        "id": "Z8JHqAxKCZyC"
      },
      "source": [
        "# Diagrams"
      ],
      "id": "Z8JHqAxKCZyC"
    },
    {
      "cell_type": "markdown",
      "metadata": {
        "id": "fQYpE-ghLcnM"
      },
      "source": [
        "## functions"
      ],
      "id": "fQYpE-ghLcnM"
    },
    {
      "cell_type": "code",
      "execution_count": null,
      "metadata": {
        "id": "OIbkFG6fP8Ri"
      },
      "outputs": [],
      "source": [
        "global mode_labels, mode_colors\n",
        "mode_labels = ['Proposed Fixed Resource Monitoring', 'Proposed Adaptive Resource Monitoring', 'Random Monitoring' , 'Fixed Nodes Monitoring', 'All Nodes Monitoring (Baseline)']\n",
        "mode_colors = ['#0000FF', '#FF0000', '#4C9A2A' , '#7D451A', '#000000']"
      ],
      "id": "OIbkFG6fP8Ri"
    },
    {
      "cell_type": "code",
      "execution_count": null,
      "metadata": {
        "id": "4HJ9sG-mQUBz"
      },
      "outputs": [],
      "source": [
        "def mode_handler(mode, ind=None):\n",
        "  global fixed, ours, random, alll, random_fixed, threshold, mode_labels, mode_colors\n",
        "  handler = None\n",
        "  if ind is not None:\n",
        "    if mode == 'fixed':\n",
        "      handler = fixed[ind]\n",
        "    elif mode == 'ours':\n",
        "      handler = ours[ind]\n",
        "    elif mode == 'random':\n",
        "      handler = random[ind]\n",
        "    elif mode == 'all':\n",
        "      handler = alll[ind]\n",
        "    elif mode == 'random_fixed':\n",
        "      handler = random_fixed[ind]\n",
        "    elif mode == 'threshold':\n",
        "      handler = threshold[ind]\n",
        "  if mode == 'fixed':\n",
        "    label = mode_labels[3]\n",
        "    color = mode_colors[3]\n",
        "  elif mode == 'ours':\n",
        "    label = mode_labels[0]\n",
        "    color = mode_colors[0]\n",
        "  elif mode == 'random':\n",
        "    label = mode_labels[5]\n",
        "    color = mode_colors[5]\n",
        "  elif mode == 'all':\n",
        "    label = mode_labels[4]\n",
        "    color = mode_colors[4]\n",
        "  elif mode == 'random_fixed':\n",
        "    label = mode_labels[2]\n",
        "    color = mode_colors[2]\n",
        "  elif mode == 'threshold':\n",
        "    label = mode_labels[1]\n",
        "    color = mode_colors[1]\n",
        "  return handler, label, color"
      ],
      "id": "4HJ9sG-mQUBz"
    },
    {
      "cell_type": "markdown",
      "metadata": {
        "id": "LvD2fQmdL9gb"
      },
      "source": [
        "## Plots for Different $\\alpha$"
      ],
      "id": "LvD2fQmdL9gb"
    },
    {
      "cell_type": "code",
      "execution_count": null,
      "metadata": {
        "id": "A_L1FYYutBg4",
        "colab": {
          "base_uri": "https://localhost:8080/"
        },
        "outputId": "18a77b41-b7bc-4a23-a7d8-6222c689f91e"
      },
      "outputs": [
        {
          "output_type": "stream",
          "name": "stdout",
          "text": [
            "[0.5, 0.45, 0.4, 0.35, 0.3, 0.25, 0.2, 0.15, 0.1, 0.05, 0]\n"
          ]
        }
      ],
      "source": [
        "print(threshold_list)"
      ],
      "id": "A_L1FYYutBg4"
    },
    {
      "cell_type": "code",
      "execution_count": null,
      "metadata": {
        "id": "nquf_XixOkTD"
      },
      "outputs": [],
      "source": [
        "packed_for_a_list = []\n",
        "threshold_list = [0.5, 0.45, 0.4, 0.35, 0.3, 0.25, 0.2, 0.15, 0.1, 0.05, 0]\n",
        "for a in threshold_list:\n",
        "  packed_for_m = np.load('packed_for_m1a' + str(a) + '.npy', allow_pickle=True)\n",
        "  for pack in packed_for_m:\n",
        "    packed_for_a_list.append(pack)\n",
        "    break"
      ],
      "id": "nquf_XixOkTD"
    },
    {
      "cell_type": "code",
      "source": [
        "print(len(packed_for_a_list))"
      ],
      "metadata": {
        "colab": {
          "base_uri": "https://localhost:8080/"
        },
        "id": "vCn3bL81Vv_1",
        "outputId": "00be9299-962d-4ed8-f1e9-516348e3e5e7"
      },
      "id": "vCn3bL81Vv_1",
      "execution_count": null,
      "outputs": [
        {
          "output_type": "stream",
          "name": "stdout",
          "text": [
            "11\n"
          ]
        }
      ]
    },
    {
      "cell_type": "markdown",
      "metadata": {
        "id": "LRx9uqaO1y_d"
      },
      "source": [
        "### Average Total Error - Measuring Noise error (q) - bar"
      ],
      "id": "LRx9uqaO1y_d"
    },
    {
      "cell_type": "code",
      "execution_count": null,
      "metadata": {
        "id": "6ZYjHi6Co_kf"
      },
      "outputs": [],
      "source": [
        "fixed, ours, random, alll, random_fixed, threshold = [], [], [], [], [], []\n",
        "modes = ['all', 'threshold', 'ours', 'random_fixed', 'fixed']"
      ],
      "id": "6ZYjHi6Co_kf"
    },
    {
      "cell_type": "code",
      "execution_count": null,
      "metadata": {
        "colab": {
          "base_uri": "https://localhost:8080/",
          "height": 454
        },
        "id": "VlDZEKGC1y_e",
        "outputId": "48ece21c-d209-444c-bb6c-5fd73f384564"
      },
      "outputs": [
        {
          "output_type": "display_data",
          "data": {
            "text/plain": [
              "<Figure size 1200x800 with 1 Axes>"
            ],
            "image/png": "[encoded data removed]"
          },
          "metadata": {}
        }
      ],
      "source": [
        "# all_mon_list_random_fixed = random_fixed[4]\n",
        "plt.rcdefaults()\n",
        "plt.rcParams['figure.figsize'] = [12,8]\n",
        "fig1, ax1 = plt.subplots()\n",
        "fontsize = 22\n",
        "l = len(modes)/2\n",
        "j=0\n",
        "for mode in modes:\n",
        "  mean_of_mean = np.zeros(len(threshold_list))\n",
        "  i=0\n",
        "  for pack in packed_for_a_list:\n",
        "    # print(pack)\n",
        "    # print(pack[0][0][2])\n",
        "    (fixed, ours, random, alll, random_fixed, threshold) = pack\n",
        "    # print(fixed[4][0][0])\n",
        "    # print(random[4])\n",
        "    all_tot_err_list, mode_label, mode_color= mode_handler(mode, 2)\n",
        "    mean_tot_err_list = 0\n",
        "    for num in range(0, max_num):\n",
        "      # print(all_tot_err_list[num])\n",
        "      mean_tot_err_list += np.sum(all_tot_err_list[num])\n",
        "    # mean_of_mean[i-1] = np.sum(mean_tot_err_list)/(T  * max_num)\n",
        "    mean_of_mean[i] = np.sum(mean_tot_err_list)/(max_num)\n",
        "    i += 1\n",
        "    # print(mean_of_mean)\n",
        "    width = 0.1  # the width of the bars\n",
        "    j += 1\n",
        "    # mean_mon_list_random_fixed =occurance_random_fixed/max_num\n",
        "    # rects2 = ax1.bar(np.arange(len(q_list)) + (-width*l + (j)*width  - width/2), mean_of_mean, width ,label=mode_label,color=mode_color, alpha=0.75, edgecolor=\"black\")\n",
        "    # print(mean_of_mean)\n",
        "  linestyle = \"solid\"\n",
        "  if mode=='all':\n",
        "    linestyle = \"dotted\"\n",
        "  if mode !='threshold':\n",
        "    mean_of_mean = np.full(np.shape(mean_of_mean), mean_of_mean[0])\n",
        "  rects2 = ax1.plot(np.array(threshold_list) , mean_of_mean, linewidth = 3 ,label=mode_label,color=mode_color, alpha=0.75, linestyle =linestyle)\n",
        "  # rects1 = ax1.bar(np.arange(m)+width/2, mean_mon_list_threshold, width, label=mode_labels[1],color=mode_colors[1], alpha=0.75,edgecolor=\"black\" )\n",
        "  # # rects3 = ax1.bar(np.arange(m)+width, mean_mon_list_random_fixed, width, label=mode_labels[2],color=mode_colors[2], alpha=0.75,edgecolor=\"black\" )\n",
        "\n",
        "ax1.set_xticks(np.array(threshold_list))\n",
        "ax1.yaxis.set_tick_params(labelsize=fontsize-1)\n",
        "ax1.set_xticklabels(np.array(threshold_list), fontsize=fontsize-1)\n",
        "ax1.set_ylabel(r' Average Total Error', fontsize=fontsize, labelpad=15)\n",
        "ax1.set_xlabel(r'Maximum Desired Detection Error ($\\alpha$)', fontsize=fontsize, labelpad=15)\n",
        "# ax1.legend(prop={'size': fontsize-2})\n",
        "ax1.grid(color='gray', linestyle='-', linewidth=1, alpha=0.09)\n",
        "plt.show()\n"
      ],
      "id": "VlDZEKGC1y_e"
    },
    {
      "cell_type": "markdown",
      "metadata": {
        "id": "Md-A6IQhI-54"
      },
      "source": [
        "### Average total num of monitored nodes (q)\n"
      ],
      "id": "Md-A6IQhI-54"
    },
    {
      "cell_type": "code",
      "execution_count": null,
      "metadata": {
        "colab": {
          "base_uri": "https://localhost:8080/",
          "height": 638
        },
        "id": "kZpWUQXvPXRq",
        "outputId": "73ebdb87-fe60-4427-c5e9-9124fd87c1da"
      },
      "outputs": [
        {
          "output_type": "stream",
          "name": "stdout",
          "text": [
            "[8]\n",
            "[11]\n",
            "[3]\n",
            "[1]\n",
            "[7]\n",
            "[9]\n",
            "[6]\n",
            "[5]\n",
            "[9]\n",
            "[3]\n",
            "[12]\n",
            "[0.5  0.45 0.4  0.35 0.3  0.25 0.2  0.15 0.1  0.05 0.  ]\n"
          ]
        },
        {
          "output_type": "display_data",
          "data": {
            "text/plain": [
              "<Figure size 1200x800 with 1 Axes>"
            ],
            "image/png": "[encoded data removed]"
          },
          "metadata": {}
        }
      ],
      "source": [
        "plt.rcdefaults()\n",
        "plt.rcParams['figure.figsize'] = [12, 8]\n",
        "fig1, ax1 = plt.subplots()\n",
        "fontsize = 22\n",
        "l = (len(modes)-1)/2\n",
        "j=0\n",
        "# Have for diffferent qs.\n",
        "i=0\n",
        "num1 = np.zeros(len(threshold_list))\n",
        "num2 = np.zeros(len(threshold_list))\n",
        "num3 = np.zeros(len(threshold_list))\n",
        "for pack in packed_for_a_list:\n",
        "  j = 0\n",
        "  i += 1\n",
        "  (fixed, ours, random, alll, random_fixed, threshold) = pack\n",
        "  all_mon_list, mode_label, mode_color= mode_handler('ours', 4)\n",
        "  print(all_mon_list[0][0])\n",
        "  for arr in all_mon_list:\n",
        "    for arr2 in arr:\n",
        "      num1[i-1] += len(arr2)\n",
        "  all_mon_list, mode_label, mode_color= mode_handler('threshold', 4)\n",
        "  for arr in all_mon_list:\n",
        "    for arr2 in arr:\n",
        "      num2[i-1] += len(arr2)\n",
        "\n",
        "  all_mon_list, mode_label, mode_color= mode_handler('all', 4)\n",
        "  for arr in all_mon_list:\n",
        "    for arr2 in arr:\n",
        "      num3[i-1] += len(arr2)\n",
        "\n",
        "num1 = num1/(max_num)\n",
        "num2 = num2/(max_num)\n",
        "num3 = num3/(max_num)\n",
        "\n",
        "\n",
        "width = 43  # the width of the bars\n",
        "threshold_list = np.array(threshold_list)\n",
        "print(threshold_list)\n",
        "# mean_mon_list_random_fixed =occurance_random_fixed/max_num\n",
        "all_mon_list, mode_label, mode_color= mode_handler('ours', 4)\n",
        "rects2 = ax1.plot(threshold_list, num1 ,linewidth=3, label=mode_label,color=mode_color, alpha=0.75)\n",
        "  # mean_mon_list_random_fixed =occurance_random_fixed/max_num\n",
        "all_mon_list, mode_label, mode_color= mode_handler('threshold', 4)\n",
        "rects2 = ax1.plot(threshold_list, num2 ,linewidth=3,label=mode_label,color=mode_color, alpha=0.75)\n",
        "all_mon_list, mode_label, mode_color= mode_handler('all', 4)\n",
        "rects3 = ax1.plot(threshold_list, num3 ,linewidth=3,label=mode_label,color=mode_color,linestyle = \"dotted\", alpha=0.75)\n",
        "\n",
        "ax1.set_xticks(threshold_list)\n",
        "# ax1.set_yticks(np.arange(0, 22 ))\n",
        "ax1.yaxis.set_tick_params(labelsize=fontsize-1)\n",
        "ax1.set_xticklabels(threshold_list, fontsize=fontsize-1)\n",
        "ax1.set_ylabel(r' Average Total Number of Monitored Nodes', fontsize=fontsize, labelpad=15)\n",
        "ax1.set_xlabel(r'Maximum Desired Detection Error ($\\alpha$)', fontsize=fontsize, labelpad=15)\n",
        "# ax1.legend(prop={'size': fontsize})\n",
        "ax1.grid(color='gray', linestyle='-', linewidth=1, alpha=0.09)\n",
        "fig1.tight_layout()\n",
        "plt.show()"
      ],
      "id": "kZpWUQXvPXRq"
    },
    {
      "cell_type": "markdown",
      "source": [
        "## Accuracy"
      ],
      "metadata": {
        "id": "ZZdwNqLakGOj"
      },
      "id": "ZZdwNqLakGOj"
    },
    {
      "cell_type": "code",
      "source": [
        "packed_for_a_list = []\n",
        "packed_for_m = np.load('packed_for_m1a' + str(0.15) + '.npy', allow_pickle=True)\n",
        "for pack in packed_for_m:\n",
        "  packed_for_a_list.append(pack)\n",
        "  break"
      ],
      "metadata": {
        "id": "2WZCOSB7kJdM"
      },
      "id": "2WZCOSB7kJdM",
      "execution_count": null,
      "outputs": []
    },
    {
      "cell_type": "code",
      "source": [
        "# plt.rcdefaults()\n",
        "fontsize = 16\n",
        "plt.rcParams['figure.figsize'] = (7, 5)\n",
        "for pack in packed_for_m:\n",
        "  (fixed, ours, random, alll, random_fixed, threshold) = pack\n",
        "  for mode in modes:\n",
        "    all_acc_list, mode_label, mode_color = mode_handler(mode, 3)\n",
        "    mean_acc_list = np.zeros(T)\n",
        "    for num in range(0, max_num):\n",
        "      mean_acc_list += all_acc_list[num]\n",
        "    mean_acc_list/= max_num\n",
        "    X = np.arange(0, T)\n",
        "    linestyle = '-'\n",
        "    if mode == 'all':\n",
        "      linestyle='dotted'\n",
        "    plt.plot(X, mean_acc_list, linewidth=3, label=mode_label, color=mode_color, linestyle=linestyle)\n",
        "  yticks = np.arange(11)/10\n",
        "  plt.xticks(ticks=X, labels=X+1, fontsize=fontsize-2)\n",
        "  plt.ylabel(r'Average Accuracy of Attack Detection', fontsize=fontsize, labelpad=15)\n",
        "  plt.xlabel(r'Time', fontsize=fontsize, labelpad=15)\n",
        "  plt.grid(color='gray', linestyle='-', linewidth=1, alpha=0.09)\n",
        "  # plt.legend(loc='best',prop={'size': fontsize-2} )\n",
        "  plt.xlim([0,T-1])\n",
        "  plt.ylim([0.05,1])\n",
        "  plt.yticks(ticks=yticks, labels=yticks, fontsize=fontsize-2)\n",
        "  plt.show()"
      ],
      "metadata": {
        "colab": {
          "base_uri": "https://localhost:8080/",
          "height": 496
        },
        "id": "D-yF_D24kH-Q",
        "outputId": "5ed1890c-45db-463e-8f86-3576742f2720"
      },
      "id": "D-yF_D24kH-Q",
      "execution_count": null,
      "outputs": [
        {
          "output_type": "display_data",
          "data": {
            "text/plain": [
              "<Figure size 700x500 with 1 Axes>"
            ],
            "image/png": "[encoded data removed]"
          },
          "metadata": {}
        }
      ]
    }
  ],
  "metadata": {
    "colab": {
      "collapsed_sections": [
        "7761ac50-c8e4-44ca-812a-a35b940490af",
        "e678cb17-a544-457f-abd4-4878c869f8fd",
        "f4d85a7e-dd98-4192-ae75-31774f32e0f1",
        "01cd976b-24c7-4fc3-a0d9-07c4c31e75cf",
        "1465f186-f053-47c1-a0f2-90fbb647c3d2",
        "iQCSy3fYeWTJ",
        "6hFpcxo2SjDl",
        "fQYpE-ghLcnM"
      ],
      "provenance": []
    },
    "gpuClass": "standard",
    "kernelspec": {
      "display_name": "Python 3 (ipykernel)",
      "language": "python",
      "name": "python3"
    },
    "language_info": {
      "codemirror_mode": {
        "name": "ipython",
        "version": 3
      },
      "file_extension": ".py",
      "mimetype": "text/x-python",
      "name": "python",
      "nbconvert_exporter": "python",
      "pygments_lexer": "ipython3",
      "version": "3.7.13"
    }
  },
  "nbformat": 4,
  "nbformat_minor": 5
}