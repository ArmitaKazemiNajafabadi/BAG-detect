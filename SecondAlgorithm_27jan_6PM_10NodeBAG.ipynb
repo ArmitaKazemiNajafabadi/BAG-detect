{
  "cells": [
    {
      "cell_type": "markdown",
      "metadata": {
        "id": "5d7f9d6b-2046-454f-aaa9-645fbd4d6106"
      },
      "source": [
        "# Algorithm1\n"
      ],
      "id": "5d7f9d6b-2046-454f-aaa9-645fbd4d6106"
    },
    {
      "cell_type": "code",
      "execution_count": null,
      "metadata": {
        "id": "e5a193dc-c678-4a85-b048-9f2f16b1a593"
      },
      "outputs": [],
      "source": [
        "import numpy as np\n",
        "import math\n",
        "import matplotlib\n",
        "from matplotlib import pyplot as plt\n",
        "from matplotlib import rc\n",
        "from numpy import asarray\n",
        "from numpy import savetxt\n",
        "from numpy.lib.arraypad import pad\n",
        "from numpy.lib.function_base import append"
      ],
      "id": "e5a193dc-c678-4a85-b048-9f2f16b1a593"
    },
    {
      "cell_type": "markdown",
      "metadata": {
        "id": "7761ac50-c8e4-44ca-812a-a35b940490af"
      },
      "source": [
        "## Handling Parameters\n",
        "\n"
      ],
      "id": "7761ac50-c8e4-44ca-812a-a35b940490af"
    },
    {
      "cell_type": "markdown",
      "metadata": {
        "id": "TEqQESC87ThB"
      },
      "source": [
        "N is the number of machines (integer) - Machines' numbers range between 0 to N-1.\n",
        "We exclude the attacker from the machines.\n",
        "\n",
        "N_and_or_machine (AndOr), is a binary numpy array. Column \"i\" is equal \"1\", if and only if \"i\"-th machine is an AND-Machine.\n",
        "\n",
        "weighted_BAG is an NxN numpy array. Filled with Rho_{ij}s.\n",
        "boolean_BAG is an NxN numpy array. Showing the directed connectivity between nodes.\n",
        "\n",
        "There are some leafs wich are only compromised directly by the attacker itself. So we have Rho_{l}s not in the BAG we mentioned, but in another\n",
        "Nx1 numpy array: leaf_rhos\n",
        "\n",
        "When we have a directed edge from machine i to j (Showing that j is exploitable via i), we put the corresponding Rho_{ij} at i-th row, j-th column of the matrix.\n",
        "\n",
        "\"O\" is the set of observable machines. (given as a numpy array)\n",
        "\"m\" is the number of observable machines, equal to \"o\" 's size.\n",
        "\n",
        "\"q\" is the probability of not ditecting (missing) a compromised machine during an observation.\n",
        "\n",
        "\"A\" is a matrix filled with the boolean representation of all states. (from $0$ to $2^N-1$).\n",
        "\n",
        "**Assumptions:**\n",
        "\n",
        "* It is different that you have a Rho_ij = 0 or there is no connection from \"i\" to \"j\". This is the reason we defined boolean_BAG.\n",
        "* Here we assume that a \"zero\" in boolean_BAG, means there are no connections from \"i\" to \"j\".\n",
        "* We also assume that there is at most one directed-edge from any \"i\" to any \"j\". (Or we have to reconsider our BAG structure.)"
      ],
      "id": "TEqQESC87ThB"
    },
    {
      "cell_type": "code",
      "execution_count": null,
      "metadata": {
        "id": "3cce2f59-ea4d-4ab3-8bc4-d44ac7291f98"
      },
      "outputs": [],
      "source": [
        "# Global variables. (Edit: use them localy)\n",
        "global N, AndOr, weighted_BAG, boolean_BAG, leaf_rhos, m, O, q, raw_Als, A\n",
        "def set_parameters(N_and_or_machine, weighted_BAGi, leaf_rhosi, qi, boolean_BAGi=None , Oi=None):\n",
        "    global N, AndOr, weighted_BAG, boolean_BAG, leaf_rhos, m, O, q, A\n",
        "    N = len(N_and_or_machine)\n",
        "    AndOr = N_and_or_machine\n",
        "    weighted_BAG = weighted_BAGi\n",
        "    # Observer items\n",
        "    if Oi is not None:\n",
        "        m = len(Oi)\n",
        "        O = Oi\n",
        "    # Boolean BAG\n",
        "    if boolean_BAGi is None:\n",
        "        boolean_BAG = np.copy(weighted_BAG)\n",
        "        boolean_BAG[boolean_BAG > 0] = 1\n",
        "    else:\n",
        "        boolean_BAG = boolean_BAGi\n",
        "    leaf_rhos = leaf_rhosi\n",
        "    # Missing rate\n",
        "    q = qi\n",
        "    A = pre_process_A(N)\n",
        "    return"
      ],
      "id": "3cce2f59-ea4d-4ab3-8bc4-d44ac7291f98"
    },
    {
      "cell_type": "markdown",
      "metadata": {
        "id": "e678cb17-a544-457f-abd4-4878c869f8fd"
      },
      "source": [
        "## AL Generating\n",
        "\n",
        "This process helps us with the calculation of the update_vector's elements.\n",
        "For AND-Machines it can be pre-processed. For OR-Machines, needs to be calculated while previous state is given."
      ],
      "id": "e678cb17-a544-457f-abd4-4878c869f8fd"
    },
    {
      "cell_type": "code",
      "execution_count": null,
      "metadata": {
        "id": "2e15e754-045b-4c15-826e-1b2d53a1f0cd"
      },
      "outputs": [],
      "source": [
        "from logging import exception\n",
        "def pre_process_Al():\n",
        "    global weighted_BAG, AndOr, raw_Als\n",
        "    raw_Als = np.zeros(N)\n",
        "    for l in range(N):\n",
        "\n",
        "        #if L is AND-Machine:\n",
        "        if AndOr[l]:\n",
        "            ### debug\n",
        "            raw_Als[l] = np.prod(weighted_BAG[np.nonzero(weighted_BAG[:,l]),l])\n",
        "\n",
        "        #if L is OR-Machine:\n",
        "        #else:\n",
        "            ### debug\n",
        "            ### OR machines are not good with pre-processing!\n",
        "            #raw_Als[l] = 1 - np.prod(1 - weighted_BAG[np.nonzero(weighted_BAG[:,l]),l])\n",
        "    return raw_Als\n",
        "\n",
        "# We have to calculate this for every X_prev. On the other hand, pre_processed_Al is independant of states.\n",
        "def set_Als(raw_Als, X_prev, ai=None):\n",
        "    Als = np.zeros(N)\n",
        "    if ai is None:\n",
        "      for l in range(N):\n",
        "        #if L is AND-Machine:\n",
        "        if AndOr[l]:\n",
        "            ### debug\n",
        "            # Als[l] = raw_Als * np.all(X_prev & (boolean_BAG[:,l] == True))\n",
        "            weighted_BAG_col = weighted_BAG[:, l]\n",
        "            Als[l] = np.prod((weighted_BAG_col[boolean_BAG[:,l] == True]) * (X_prev[boolean_BAG[:,l] == True]))\n",
        "       #if L is OR-Machine:\n",
        "        else:\n",
        "            ### debug\n",
        "            # print(weighted_BAG[:, l] * (boolean_BAG[:,l] == False))\n",
        "            # print((X_prev *(boolean_BAG[:,l] == True)))\n",
        "            # Als[l] = 1 - np.prod(1 - (weighted_BAG[:, l] * (boolean_BAG[:,l] == False)) * (X_prev *(boolean_BAG[:,l] == True)))\n",
        "            weighted_BAG_col = weighted_BAG[:, l]\n",
        "            Als[l] = 1 - np.prod(1 - ( weighted_BAG_col[boolean_BAG[:,l] == True]) * (X_prev[boolean_BAG[:,l] == True]))\n",
        "\n",
        "    else:\n",
        "      for l in range(N):\n",
        "        # print(X_prev[boolean_BAG[:,l]==True])\n",
        "        help = np.ones(N)\n",
        "        # help[boolean_BAG[:,l] == True] = 1\n",
        "        for a in ai:\n",
        "          if help[a] == 1:\n",
        "            help[a] = 0\n",
        "\n",
        "        t = help[[boolean_BAG[:,l]==True]]\n",
        "        # print(t)\n",
        "        # raise exception\n",
        "        #if L is AND-Machine:\n",
        "        if AndOr[l]:\n",
        "            ### debug\n",
        "            # Als[l] = raw_Als * np.all(X_prev & (boolean_BAG[:,l] == True))\n",
        "            weighted_BAG_col = weighted_BAG[:, l]\n",
        "            Als[l] = np.prod((weighted_BAG_col[boolean_BAG[:,l] == True]) * (X_prev[boolean_BAG[:,l] == True]) * t)\n",
        "        #if L is OR-Machine:\n",
        "        else:\n",
        "            ### debug\n",
        "            # print(weighted_BAG[:, l] * (boolean_BAG[:,l] == False))\n",
        "            # print((X_prev *(boolean_BAG[:,l] == True)))\n",
        "            # Als[l] = 1 - np.prod(1 - (weighted_BAG[:, l] * (boolean_BAG[:,l] == False)) * (X_prev *(boolean_BAG[:,l] == True)))\n",
        "            weighted_BAG_col = weighted_BAG[:, l]\n",
        "            Als[l] = 1 - np.prod(1 - ( weighted_BAG_col[boolean_BAG[:,l] == True]) * (X_prev[boolean_BAG[:,l] == True]) * t)\n",
        "\n",
        "    return Als\n"
      ],
      "id": "2e15e754-045b-4c15-826e-1b2d53a1f0cd"
    },
    {
      "cell_type": "markdown",
      "metadata": {
        "id": "f4d85a7e-dd98-4192-ae75-31774f32e0f1"
      },
      "source": [
        "## Boolean Array - Integer"
      ],
      "id": "f4d85a7e-dd98-4192-ae75-31774f32e0f1"
    },
    {
      "cell_type": "code",
      "execution_count": null,
      "metadata": {
        "colab": {
          "base_uri": "https://localhost:8080/"
        },
        "id": "4c38b7f4-ab7a-4de9-b13e-c1fd8f5aedc8",
        "outputId": "114b8c40-795b-4d4f-b2fd-ecbd9efc471a"
      },
      "outputs": [
        {
          "output_type": "stream",
          "name": "stdout",
          "text": [
            "[[0. 0. 0. 0. 0. 0. 0. 0. 0. 0. 0. 0. 0. 0. 0. 0. 1. 1. 1. 1. 1. 1. 1. 1.\n",
            "  1. 1. 1. 1. 1. 1. 1. 1.]\n",
            " [0. 0. 0. 0. 0. 0. 0. 0. 1. 1. 1. 1. 1. 1. 1. 1. 0. 0. 0. 0. 0. 0. 0. 0.\n",
            "  1. 1. 1. 1. 1. 1. 1. 1.]\n",
            " [0. 0. 0. 0. 1. 1. 1. 1. 0. 0. 0. 0. 1. 1. 1. 1. 0. 0. 0. 0. 1. 1. 1. 1.\n",
            "  0. 0. 0. 0. 1. 1. 1. 1.]\n",
            " [0. 0. 1. 1. 0. 0. 1. 1. 0. 0. 1. 1. 0. 0. 1. 1. 0. 0. 1. 1. 0. 0. 1. 1.\n",
            "  0. 0. 1. 1. 0. 0. 1. 1.]\n",
            " [0. 1. 0. 1. 0. 1. 0. 1. 0. 1. 0. 1. 0. 1. 0. 1. 0. 1. 0. 1. 0. 1. 0. 1.\n",
            "  0. 1. 0. 1. 0. 1. 0. 1.]]\n"
          ]
        }
      ],
      "source": [
        "def int_to_N_boolean_digits_npArray(pre, N, curr= None):\n",
        "\n",
        "    if curr is None:\n",
        "        t = bin(pre)\n",
        "        t = t[2:] # bin function output's format has a \"0b\" at the beginning. We omit it here.\n",
        "        # res_pre = np.zeros(N).astype(np.int32)\n",
        "        res_pre = np.full(N, False)\n",
        "\n",
        "        for i in range(0, N):\n",
        "            if i < N - len(t):\n",
        "                res_pre[i] = 0\n",
        "            else:\n",
        "                res_pre[i] = int(t[i - N + len(t)]) # Since t elements are characters, t[i] is always true. It has to be converted to int then bool.\n",
        "        return res_pre\n",
        "\n",
        "    else:\n",
        "        t = bin(pre)\n",
        "        t = t[2:] # bin function output's format has a \"0b\" at the beginning. We omit it here.\n",
        "        s = bin(curr)\n",
        "        s = s[2:] # bin function output's format has a \"0b\" at the beginning. We omit it here.\n",
        "        res_pre = np.full(N, False)\n",
        "        res_curr = np.full(N, False)\n",
        "        for i in range(0, N):\n",
        "            if i < N - len(t):\n",
        "                res_pre[i] = 0\n",
        "            else:\n",
        "                res_pre[i] = int(t[i - N + len(t)]) # Since t elements are characters, t[i] is always true. It has to be converted to int then bool.\n",
        "            if i < N - len(s):\n",
        "                res_curr[i] = 0\n",
        "            else:\n",
        "                res_curr[i] = int(s[i - N + len(s)]) # Since t elements are characters, t[i] is always true. It has to be converted to int then bool.\n",
        "\n",
        "        return res_pre, res_curr\n",
        "\n",
        "        #print(y[-i])#\n",
        "\n",
        "def pre_process_A(N):\n",
        "  A = np.zeros([N , 2**N])\n",
        "  for i in range(0, 2**N):\n",
        "      binary = int_to_N_boolean_digits_npArray(i, N, curr= None)\n",
        "      A[:, i] = binary\n",
        "  return A\n",
        "\n",
        "print(pre_process_A(5))"
      ],
      "id": "4c38b7f4-ab7a-4de9-b13e-c1fd8f5aedc8"
    },
    {
      "cell_type": "markdown",
      "metadata": {
        "id": "01cd976b-24c7-4fc3-a0d9-07c4c31e75cf"
      },
      "source": [
        "## Generating transition matrix"
      ],
      "id": "01cd976b-24c7-4fc3-a0d9-07c4c31e75cf"
    },
    {
      "cell_type": "markdown",
      "metadata": {
        "id": "9sFmLFb98NT_"
      },
      "source": [
        "**New Code Examine for Transition Matrix:**"
      ],
      "id": "9sFmLFb98NT_"
    },
    {
      "cell_type": "code",
      "execution_count": null,
      "metadata": {
        "id": "hZUXeqvX8RBf"
      },
      "outputs": [],
      "source": [
        "# Calculates the whole transition matrix when X_curr || X_prev == None\n",
        "# Calculates the X_curr-th row X_prev-th column of transition matrix when X_curr,X_prev != -1\n",
        "# What is the format of X_curr, X_prev? One dimensional numpy arrays of size N.\n",
        "# ****************** Somewhere you should gain/call raw_Als. Outside this method.\n",
        "\n",
        "def gain_fixed_transition_matrix(ai=None):\n",
        "    global raw_Als, transition_matrix\n",
        "      # Set arrays\n",
        "    transition_matrix = np.zeros((2**N, 2**N))\n",
        "    res = np.zeros(N)\n",
        "    # Calculate each element\n",
        "    if ai is None:\n",
        "      for pre in range(2**N):\n",
        "          for curr in range(2**N):\n",
        "              X_prev = A[:, pre]\n",
        "              X_curr = A[:, curr]\n",
        "              # Sum of columns should be 1: Pre is Col, Curr is Row.\n",
        "              res = np.zeros(N)\n",
        "              Als = set_Als(raw_Als, X_prev)\n",
        "              prob_successfuly_compromised = Als * (1-leaf_rhos) + leaf_rhos\n",
        "              # print(\"prob:\" + str(prob_successfuly_compromised))\n",
        "              # print(\"THis is Als for \" + str(X_prev))\n",
        "              # print(Als)\n",
        "              # pre = 0, curr = 0\n",
        "              res[(X_prev==0) & (X_curr == 0)] = 1 - prob_successfuly_compromised[(X_prev==0) & (X_curr == 0)]\n",
        "              # pre = 0, curr = 1\n",
        "              res[(X_prev==0) & (X_curr == 1)] = prob_successfuly_compromised[(X_prev==0) & (X_curr == 1)]\n",
        "              # pre = 1, curr = 0\n",
        "              #res[(X_prev==1) & (X_curr == 0)] = 0\n",
        "              # pre = 1, curr = 1\n",
        "              res[(X_prev==1) & (X_curr == 1)] = 1\n",
        "              probability_of_state_transition = np.prod(res)\n",
        "              transition_matrix[curr][pre] = probability_of_state_transition\n",
        "    else:\n",
        "      # try:\n",
        "      #   transition_matrix = np.load('transition_matrix_' + str(ai) + '.npy')\n",
        "      #   print(\"transition matrix for \" + str(ai) + \" has been loaded.\")\n",
        "      # except:\n",
        "      #   transition_matrix_ai = np.copy(gain_fixed_transition_matrix(ai))\n",
        "      #   np.save('transition_matrix_' + str(ai) + '.npy', transition_matrix_ai)\n",
        "      #   print(\"transition matrix for \" + str(ai) + \" has been created (not loaded).\")\n",
        "      # pass\n",
        "      # \"print(transition_matrix)\"\n",
        "\n",
        "      for pre in range(2**N):\n",
        "        for curr in range(2**N):\n",
        "            X_prev = A[:, pre]\n",
        "            X_curr = A[:, curr]\n",
        "            # Sum of columns should be 1: Pre is Col, Curr is Row.\n",
        "            res = np.zeros(N)\n",
        "            Als = set_Als(raw_Als, X_prev, ai)\n",
        "            prob_successfuly_compromised = Als * (1-leaf_rhos) + leaf_rhos\n",
        "            # print(\"prob:\" + str(prob_successfuly_compromised))\n",
        "            # print(\"THis is Als for \" + str(X_prev))\n",
        "            # print(Als)\n",
        "            # pre = 0, curr = 0\n",
        "            t = np.zeros(N) + 1\n",
        "            t[ai] = 0\n",
        "            # if res[ai]==1:\n",
        "            #   print(res[[ai]])\n",
        "            res_ai = res[ai]\n",
        "            res[(X_prev==0) & (X_curr == 0)] = 1 - prob_successfuly_compromised[(X_prev==0) & (X_curr == 0)]\n",
        "            res_ai[(X_prev[ai]==0) & (X_curr[ai] == 0)] = 1\n",
        "\n",
        "            # pre = 0, curr = 1\n",
        "            res[(X_prev==0) & (X_curr == 1)] = prob_successfuly_compromised[(X_prev==0) & (X_curr == 1)]\n",
        "            res_ai[(X_prev[ai]==0) & (X_curr[ai] == 1)] = 0\n",
        "            # pre = 1, curr = 0\n",
        "            res_ai[(X_prev[ai]==1) & (X_curr[ai] == 0)] = 1\n",
        "            # pre = 1, curr = 1\n",
        "            res[(X_prev==1) & (X_curr == 1)] = 1\n",
        "            res_ai[(X_prev[ai]==1) & (X_curr[ai] == 1)] = 0\n",
        "            res[ai] = res_ai\n",
        "\n",
        "            probability_of_state_transition = np.prod(res)\n",
        "            transition_matrix[curr][pre] = probability_of_state_transition\n",
        "\n",
        "\n",
        "\n",
        "\n",
        "    return transition_matrix\n",
        "\n",
        "  # Transition Matrix at row [X_prev], col [X_curr]:\n",
        "  # Returns a real number. Probability of being in current state, given our previous state."
      ],
      "id": "hZUXeqvX8RBf"
    },
    {
      "cell_type": "code",
      "execution_count": null,
      "metadata": {
        "id": "1E0GDuFK6zBG"
      },
      "outputs": [],
      "source": [
        "def corresponding_transition_matrix(at):\n",
        "  if np.size(at) == 1:\n",
        "    transition_matrix = np.load('transition_matrix_' + str(at[0]) + '.npy')\n",
        "  elif np.size(at) == 2:\n",
        "    a00 = at[0]\n",
        "    a11 = at[1]\n",
        "    if a00 > a11:\n",
        "      a11 = a00\n",
        "      a00 = at[1]\n",
        "    transition_matrix = np.load('transition_matrix_' + str(a00) + '_' + str(a11)  + '.npy')\n",
        "  else:\n",
        "    print(at)\n",
        "    raise Exception\n",
        "  return transition_matrix"
      ],
      "id": "1E0GDuFK6zBG"
    },
    {
      "cell_type": "markdown",
      "metadata": {
        "id": "1465f186-f053-47c1-a0f2-90fbb647c3d2"
      },
      "source": [
        "## Generating Update Vector"
      ],
      "id": "1465f186-f053-47c1-a0f2-90fbb647c3d2"
    },
    {
      "cell_type": "code",
      "execution_count": null,
      "metadata": {
        "id": "e6f7a8dd-dc39-4d29-a432-73978f268dd5"
      },
      "outputs": [],
      "source": [
        "def gain_update_vector(Y_curr, a_pre=None):\n",
        "    if a_pre is None:\n",
        "        a_pre = np.arange(0, N, 1, dtype=np.int32)\n",
        "    Y_curr = np.reshape(Y_curr, (N, 1))\n",
        "    Y_curr_all_col = np.matmul(Y_curr, np.full((1, 2**N), 1))\n",
        "    # print(\"Y_curr_all_col is: \" +  str(Y_curr_all_col))\n",
        "    # print(Y_curr_all_col)\n",
        "    # print(\"A[a_pre,:] is: \" + str(A[a_pre,:]))\n",
        "    # print(\"Y_curr_all_col[a_pre] is: \" + str(Y_curr_all_col[a_pre]))\n",
        "    partially_observed_res = np.abs((-1)*A[a_pre,:] - Y_curr_all_col[a_pre] + 1)\n",
        "    # print(\"partially_observed_res\"  + str(partially_observed_res))\n",
        "    update_vector = np.prod(partially_observed_res, axis=0)\n",
        "    # print(\"update_vector\" + str(update_vector))\n",
        "    # print(\"update vector is: \")\n",
        "    # print(update_vector)\n",
        "    # print(np.sum(update_vector))\n",
        "    return update_vector"
      ],
      "id": "e6f7a8dd-dc39-4d29-a432-73978f268dd5"
    },
    {
      "cell_type": "code",
      "execution_count": null,
      "metadata": {
        "id": "aN_uwW5LNQQ4"
      },
      "outputs": [],
      "source": [
        "# Y_curr = np.full((N, 1),1)\n",
        "# Y_curr_all_col = np.matmul(Y_curr, np.full((1, 2**N), 1))\n",
        "\n",
        "# partially_observed_res=np.abs((-1+q)*A[[],:] - Y_curr_all_col[[]] + 1)\n",
        "# update_vector = np.prod(partially_observed_res, axis=0)\n",
        "\n",
        "# print(update_vector)\n"
      ],
      "id": "aN_uwW5LNQQ4"
    },
    {
      "cell_type": "code",
      "execution_count": null,
      "metadata": {
        "colab": {
          "base_uri": "https://localhost:8080/"
        },
        "id": "Huuis321Edsg",
        "outputId": "437a59d2-8c5e-4587-896e-a6aa4db733c7"
      },
      "outputs": [
        {
          "output_type": "stream",
          "name": "stdout",
          "text": [
            "[ 12  46 129 180]\n",
            "(2, 4)\n"
          ]
        }
      ],
      "source": [
        "x = np.array([[12, 23, 43, 45], [1, 2, 3, 4]])\n",
        "print(np.prod(x, axis=0))\n",
        "print(np.shape(x))"
      ],
      "id": "Huuis321Edsg"
    },
    {
      "cell_type": "markdown",
      "metadata": {
        "id": "IAybFoKJNxbQ"
      },
      "source": [
        "# Test Cases"
      ],
      "id": "IAybFoKJNxbQ"
    },
    {
      "cell_type": "markdown",
      "metadata": {
        "id": "PwlCdXLsn5sC"
      },
      "source": [
        "### Given Example 10 Machines\n"
      ],
      "id": "PwlCdXLsn5sC"
    },
    {
      "cell_type": "code",
      "execution_count": null,
      "metadata": {
        "id": "6Fo50CaWn5sD"
      },
      "outputs": [],
      "source": [
        "smp1_wb = np.array([[0, 0, 0, 0.57, 0, 0, 0, 0, 0, 0],\n",
        "                 [ 0, 0, 0, 0.57, 0, 0, 0, 0, 0, 0],\n",
        "                 [ 0, 0, 0, 0.57, 0.4329, 0, 0, 0, 0, 0],\n",
        "                 [ 0, 0, 0, 0, 0, 0.8054, 0.7722, 0, 0, 0],\n",
        "                 [ 0, 0, 0, 0, 0, 0.8054, 0.7722, 0.3549, 0, 0],\n",
        "                 [ 0, 0, 0, 0, 0, 0, 0, 0.3549, 0.34, 0.3811],\n",
        "                 [ 0, 0, 0, 0, 0, 0, 0, 0.3549, 0, 0.3811],\n",
        "                 [ 0, 0, 0, 0, 0, 0, 0, 0, 0, 0],\n",
        "                 [ 0, 0, 0, 0, 0, 0, 0, 0, 0, 0],\n",
        "                 [ 0, 0, 0, 0, 0, 0, 0, 0, 0, 0],\n",
        "                ], dtype= np.float64)\n",
        "smp1_lr = np.array([ 0.69, 0.62, 0.53, 0, 0, 0, 0, 0, 0, 0])\n",
        "# What are AND/OR s?\n",
        "smp1_andor = np.array([0, 0, 0, 0, 1, 0, 0, 1, 1, 1], dtype= np.bool_)\n",
        "smp1_q = 0\n",
        "smp1_o = np.array([0, 1, 2, 3, 4, 5, 6, 7, 8, 9], dtype= np.int32)\n",
        "# print(smp1_wb)\n",
        "# print()\n",
        "# print(smp1_andor)"
      ],
      "id": "6Fo50CaWn5sD"
    },
    {
      "cell_type": "code",
      "execution_count": null,
      "metadata": {
        "colab": {
          "base_uri": "https://localhost:8080/"
        },
        "id": "JY00rGxsBmSQ",
        "outputId": "ecbea3e5-2c8a-49c4-8cec-5c81966c93e2"
      },
      "outputs": [
        {
          "output_type": "stream",
          "name": "stdout",
          "text": [
            "[[0.     0.     0.     0.57   0.     0.     0.     0.     0.     0.    ]\n",
            " [0.     0.     0.     0.57   0.     0.     0.     0.     0.     0.    ]\n",
            " [0.     0.     0.     0.57   0.4329 0.     0.     0.     0.     0.    ]\n",
            " [0.     0.     0.     0.     0.     0.8054 0.7722 0.     0.     0.    ]\n",
            " [0.     0.     0.     0.     0.     0.8054 0.7722 0.3549 0.     0.    ]\n",
            " [0.     0.     0.     0.     0.     0.     0.     0.3549 0.34   0.3811]\n",
            " [0.     0.     0.     0.     0.     0.     0.     0.3549 0.     0.3811]\n",
            " [0.     0.     0.     0.     0.     0.     0.     0.     0.     0.    ]\n",
            " [0.     0.     0.     0.     0.     0.     0.     0.     0.     0.    ]\n",
            " [0.     0.     0.     0.     0.     0.     0.     0.     0.     0.    ]]\n"
          ]
        }
      ],
      "source": [
        "print(smp1_wb)"
      ],
      "id": "JY00rGxsBmSQ"
    },
    {
      "cell_type": "code",
      "execution_count": null,
      "metadata": {
        "colab": {
          "base_uri": "https://localhost:8080/"
        },
        "id": "NwXT8k9Jn5sE",
        "outputId": "158500cb-f335-491e-b53e-004d66141e3d"
      },
      "outputs": [
        {
          "output_type": "stream",
          "name": "stdout",
          "text": [
            "[False False False False  True False False  True  True  True]\n",
            "[[0.     0.     0.     0.57   0.     0.     0.     0.     0.     0.    ]\n",
            " [0.     0.     0.     0.57   0.     0.     0.     0.     0.     0.    ]\n",
            " [0.     0.     0.     0.57   0.4329 0.     0.     0.     0.     0.    ]\n",
            " [0.     0.     0.     0.     0.     0.8054 0.7722 0.     0.     0.    ]\n",
            " [0.     0.     0.     0.     0.     0.8054 0.7722 0.3549 0.     0.    ]\n",
            " [0.     0.     0.     0.     0.     0.     0.     0.3549 0.34   0.3811]\n",
            " [0.     0.     0.     0.     0.     0.     0.     0.3549 0.     0.3811]\n",
            " [0.     0.     0.     0.     0.     0.     0.     0.     0.     0.    ]\n",
            " [0.     0.     0.     0.     0.     0.     0.     0.     0.     0.    ]\n",
            " [0.     0.     0.     0.     0.     0.     0.     0.     0.     0.    ]]\n",
            "[[0. 0. 0. 1. 0. 0. 0. 0. 0. 0.]\n",
            " [0. 0. 0. 1. 0. 0. 0. 0. 0. 0.]\n",
            " [0. 0. 0. 1. 1. 0. 0. 0. 0. 0.]\n",
            " [0. 0. 0. 0. 0. 1. 1. 0. 0. 0.]\n",
            " [0. 0. 0. 0. 0. 1. 1. 1. 0. 0.]\n",
            " [0. 0. 0. 0. 0. 0. 0. 1. 1. 1.]\n",
            " [0. 0. 0. 0. 0. 0. 0. 1. 0. 1.]\n",
            " [0. 0. 0. 0. 0. 0. 0. 0. 0. 0.]\n",
            " [0. 0. 0. 0. 0. 0. 0. 0. 0. 0.]\n",
            " [0. 0. 0. 0. 0. 0. 0. 0. 0. 0.]]\n",
            "0\n",
            "10\n"
          ]
        },
        {
          "output_type": "execute_result",
          "data": {
            "text/plain": [
              "array([0.        , 0.        , 0.        , 0.        , 0.4329    ,\n",
              "       0.        , 0.        , 0.04470108, 0.34      , 0.14523721])"
            ]
          },
          "metadata": {},
          "execution_count": 12
        }
      ],
      "source": [
        "set_parameters(N_and_or_machine= smp1_andor, weighted_BAGi= smp1_wb, leaf_rhosi=smp1_lr, boolean_BAGi=None , Oi=smp1_o, qi= smp1_q)\n",
        "print(AndOr)\n",
        "print(weighted_BAG)\n",
        "print(boolean_BAG)\n",
        "print(q)\n",
        "print(N)\n",
        "pre_process_Al()"
      ],
      "id": "NwXT8k9Jn5sE"
    },
    {
      "cell_type": "markdown",
      "metadata": {
        "id": "xnApWkhxE5Ic"
      },
      "source": [
        "# Main"
      ],
      "id": "xnApWkhxE5Ic"
    },
    {
      "cell_type": "markdown",
      "metadata": {
        "id": "Hd_4S6EilLf4"
      },
      "source": [
        "## Transition Matrix"
      ],
      "id": "Hd_4S6EilLf4"
    },
    {
      "cell_type": "code",
      "execution_count": null,
      "metadata": {
        "colab": {
          "base_uri": "https://localhost:8080/"
        },
        "id": "8trrWCJo3oC9",
        "outputId": "8efe6525-5d96-4f29-f8e9-ab9fbbb788a3"
      },
      "outputs": [
        {
          "output_type": "stream",
          "name": "stdout",
          "text": [
            "transition matrix for 0 has been loaded.\n",
            "transition matrix for 1 has been loaded.\n",
            "transition matrix for 2 has been loaded.\n",
            "transition matrix for 3 has been loaded.\n",
            "transition matrix for 4 has been loaded.\n",
            "transition matrix for 5 has been loaded.\n",
            "transition matrix for 6 has been loaded.\n",
            "transition matrix for 7 has been loaded.\n",
            "transition matrix for 8 has been loaded.\n",
            "transition matrix for 9 has been loaded.\n",
            "9\n"
          ]
        }
      ],
      "source": [
        "for i in range(0, 10):\n",
        "  try:\n",
        "    transition_matrix = np.load('transition_matrix_' + str(i) + '.npy')\n",
        "    print(\"transition matrix for \" + str(i) + \" has been loaded.\")\n",
        "  except:\n",
        "    transition_matrix = np.copy(gain_fixed_transition_matrix(np.array([i])))\n",
        "    np.save('transition_matrix_' + str(i) + '.npy', transition_matrix)\n",
        "    print(\"transition matrix for \" + str(i) + \" has been created (not loaded).\")\n",
        "    pass\n",
        "print(i)"
      ],
      "id": "8trrWCJo3oC9"
    },
    {
      "cell_type": "code",
      "execution_count": null,
      "metadata": {
        "id": "vU57lqw2xX9_",
        "colab": {
          "base_uri": "https://localhost:8080/"
        },
        "outputId": "3fb37952-ee59-4eba-af3a-4283ce3e6ce1"
      },
      "outputs": [
        {
          "output_type": "stream",
          "name": "stdout",
          "text": [
            "1024.0\n"
          ]
        }
      ],
      "source": [
        "print(np.sum(np.sum(transition_matrix[:,:], axis=0)))"
      ],
      "id": "vU57lqw2xX9_"
    },
    {
      "cell_type": "code",
      "execution_count": null,
      "metadata": {
        "id": "yIKzSSXcr-t3",
        "colab": {
          "base_uri": "https://localhost:8080/"
        },
        "outputId": "c1433421-6b1c-4be3-8f18-94c68c726806"
      },
      "outputs": [
        {
          "output_type": "stream",
          "name": "stdout",
          "text": [
            "0.0\n"
          ]
        }
      ],
      "source": [
        "print(transition_matrix[511,1023])"
      ],
      "id": "yIKzSSXcr-t3"
    },
    {
      "cell_type": "code",
      "execution_count": null,
      "metadata": {
        "id": "4sCjse_TPInr",
        "colab": {
          "base_uri": "https://localhost:8080/"
        },
        "outputId": "c628009a-204b-4400-b808-994d08d4e19d"
      },
      "outputs": [
        {
          "output_type": "stream",
          "name": "stdout",
          "text": [
            "1.0\n"
          ]
        }
      ],
      "source": [
        "print(np.sum(transition_matrix[:,0]))"
      ],
      "id": "4sCjse_TPInr"
    },
    {
      "cell_type": "code",
      "execution_count": null,
      "metadata": {
        "id": "IjGOh6HAPewG",
        "colab": {
          "base_uri": "https://localhost:8080/"
        },
        "outputId": "d2bbdf46-5476-4f55-9ea7-c674b74bd3ea"
      },
      "outputs": [
        {
          "output_type": "stream",
          "name": "stdout",
          "text": [
            "[[0.055366 0.055366 0.       ... 0.       0.       0.      ]\n",
            " [0.       0.       0.       ... 0.       0.       0.      ]\n",
            " [0.       0.       0.055366 ... 0.       0.       0.      ]\n",
            " ...\n",
            " [0.       0.       0.       ... 0.       0.       0.      ]\n",
            " [0.       0.       0.       ... 0.34     1.       1.      ]\n",
            " [0.       0.       0.       ... 0.       0.       0.      ]]\n"
          ]
        }
      ],
      "source": [
        "print(transition_matrix)\n"
      ],
      "id": "IjGOh6HAPewG"
    },
    {
      "cell_type": "code",
      "execution_count": null,
      "metadata": {
        "colab": {
          "base_uri": "https://localhost:8080/"
        },
        "id": "uYBg1c2Fh8xQ",
        "outputId": "2abb0ff4-88bd-4c65-c33a-ccda12c3dfae"
      },
      "outputs": [
        {
          "output_type": "stream",
          "name": "stdout",
          "text": [
            "transition matrix for 0_1 has been loaded.\n",
            "transition matrix for 0_2 has been loaded.\n",
            "transition matrix for 0_3 has been loaded.\n",
            "transition matrix for 0_4 has been loaded.\n",
            "transition matrix for 0_5 has been loaded.\n",
            "transition matrix for 0_6 has been loaded.\n",
            "transition matrix for 0_7 has been loaded.\n",
            "transition matrix for 0_8 has been loaded.\n",
            "transition matrix for 0_9 has been loaded.\n",
            "transition matrix for 1_2 has been loaded.\n",
            "transition matrix for 1_3 has been loaded.\n",
            "transition matrix for 1_4 has been loaded.\n",
            "transition matrix for 1_5 has been loaded.\n",
            "transition matrix for 1_6 has been loaded.\n",
            "transition matrix for 1_7 has been loaded.\n",
            "transition matrix for 1_8 has been loaded.\n",
            "transition matrix for 1_9 has been loaded.\n",
            "transition matrix for 2_3 has been loaded.\n",
            "transition matrix for 2_4 has been loaded.\n",
            "transition matrix for 2_5 has been loaded.\n",
            "transition matrix for 2_6 has been loaded.\n",
            "transition matrix for 2_7 has been loaded.\n",
            "transition matrix for 2_8 has been loaded.\n",
            "transition matrix for 2_9 has been loaded.\n",
            "transition matrix for 3_4 has been loaded.\n",
            "transition matrix for 3_5 has been loaded.\n",
            "transition matrix for 3_6 has been loaded.\n",
            "transition matrix for 3_7 has been loaded.\n",
            "transition matrix for 3_8 has been loaded.\n",
            "transition matrix for 3_9 has been loaded.\n",
            "transition matrix for 4_5 has been loaded.\n",
            "transition matrix for 4_6 has been loaded.\n",
            "transition matrix for 4_7 has been loaded.\n",
            "transition matrix for 4_8 has been loaded.\n",
            "transition matrix for 4_9 has been loaded.\n",
            "transition matrix for 5_6 has been loaded.\n",
            "transition matrix for 5_7 has been loaded.\n",
            "transition matrix for 5_8 has been loaded.\n",
            "transition matrix for 5_9 has been loaded.\n",
            "transition matrix for 6_7 has been loaded.\n",
            "transition matrix for 6_8 has been loaded.\n",
            "transition matrix for 6_9 has been loaded.\n",
            "transition matrix for 7_8 has been loaded.\n",
            "transition matrix for 7_9 has been loaded.\n",
            "transition matrix for 8_9 has been loaded.\n",
            "9\n"
          ]
        }
      ],
      "source": [
        "for i in range(0, 10):\n",
        "  for j in range(0, 10):\n",
        "    if i < j:\n",
        "      try:\n",
        "        transition_matrix = np.load('transition_matrix_' + str(i) + '_' + str(j) + '.npy')\n",
        "        print(\"transition matrix for \" + str(i) + '_' + str(j) + \" has been loaded.\")\n",
        "      except:\n",
        "        transition_matrix = np.copy(gain_fixed_transition_matrix(np.array([i])))\n",
        "        np.save('transition_matrix_' + str(i) + '_' + str(j) + '.npy', transition_matrix)\n",
        "        print(\"transition matrix for \" + str(i) + '_' + str(j) + \" has been created (not loaded).\")\n",
        "        pass\n",
        "\n",
        "print(i)"
      ],
      "id": "uYBg1c2Fh8xQ"
    },
    {
      "cell_type": "markdown",
      "metadata": {
        "id": "iQCSy3fYeWTJ"
      },
      "source": [
        "## Monitoring"
      ],
      "id": "iQCSy3fYeWTJ"
    },
    {
      "cell_type": "code",
      "execution_count": null,
      "metadata": {
        "id": "Krxc3IepeV3S"
      },
      "outputs": [],
      "source": [
        "def initiate_monitoring(mode=None, threshold=None, O=None, fixed_par= 1):\n",
        "  global m\n",
        "  if O is not None:\n",
        "    return O\n",
        "  if mode is None or mode==\"all\" or mode==\"threshold\":\n",
        "    res = np.arange(N)\n",
        "    return res\n",
        "  if mode == \"random\":\n",
        "    t = np.random.choice(a=[False, True], size=N, p=[0.5, 0.5])\n",
        "    all = np.arange(N)\n",
        "    return all[t]\n",
        "  if mode== \"fixed\":\n",
        "    # return np.random.choice(np.arange(N), size=m, replace=False)\n",
        "    return np.arange(m);\n",
        "  if mode== \"ours\" or mode== \"random_fixed\":\n",
        "    t = np.random.choice(np.arange(N), size=m, replace=False)\n",
        "    return t\n",
        "  # if fixed:"
      ],
      "id": "Krxc3IepeV3S"
    },
    {
      "cell_type": "code",
      "execution_count": null,
      "metadata": {
        "id": "GmlU-nPH1Gb_"
      },
      "outputs": [],
      "source": [
        "def bar(mat):\n",
        "  matrix = np.copy(mat)\n",
        "  matrix[matrix>=0.5] = 1\n",
        "  matrix[matrix<0.5] = 0\n",
        "  return matrix"
      ],
      "id": "GmlU-nPH1Gb_"
    },
    {
      "cell_type": "code",
      "execution_count": null,
      "metadata": {
        "id": "pAUdsLPledjh"
      },
      "outputs": [],
      "source": [
        "def update_monitor(O, A_Pi_pre= None, mode=None, threshold=None):\n",
        "  global m\n",
        "  if mode==None or mode==\"ours\":\n",
        "    # Preservs length\n",
        "    # a = np.copy(A_Pi_pre)\n",
        "    # b = 1 - np.copy(a)\n",
        "    # a[a>b] = b[a>b]\n",
        "    A_Pi_pre_bar = bar(A_Pi_pre)\n",
        "    # print(A_Pi_pre_bar)\n",
        "    # print(\"THIS IS A_PI_PRE INSIDE:\")\n",
        "    # print(A_Pi_pre)\n",
        "    a = np.abs(A_Pi_pre - A_Pi_pre_bar)\n",
        "    arg_sorted = np.argsort(a)\n",
        "    # N-1 is last index. N-k is kth greatest.\n",
        "    mth = a[arg_sorted[N-m]]\n",
        "    # print(mth)\n",
        "    mask = np.full(N, False)\n",
        "    mask[a == mth] = True\n",
        "    # print(mask)\n",
        "    num_eq = np.sum(mask)\n",
        "    # print(num_eq)\n",
        "    mask2 = np.full(m-1, False)\n",
        "    mask2[a[arg_sorted[N-m+1:]] == mth] = True\n",
        "    # print(mask2)\n",
        "    num_eq_aftr = np.sum(mask2)\n",
        "    aa = N - m + num_eq_aftr - num_eq + 1\n",
        "    bb = N - m + num_eq_aftr + 1\n",
        "    eq_indices = arg_sorted[aa:bb]\n",
        "    # print(eq_indices)\n",
        "    r = np.random.choice(eq_indices, num_eq_aftr+1, replace=False)\n",
        "    # print(r)\n",
        "    O = np.zeros(m, dtype=np.int32)\n",
        "    O[0:m-num_eq_aftr-1] = arg_sorted[N-m+1+num_eq_aftr:]\n",
        "    O[m-num_eq_aftr-1:] = r\n",
        "    # print(\"a is:\")\n",
        "    # print(a)\n",
        "    # print(\"O is\")\n",
        "    # print(O)\n",
        "    return O\n",
        "\n",
        "  elif mode==\"fixed\":\n",
        "    return O\n",
        "\n",
        "  elif mode==\"all\":\n",
        "    return np.arange(N)\n",
        "\n",
        "  elif mode==\"random\":\n",
        "    t = np.random.choice(a=[False, True], size=N, p=[0.5, 0.5])\n",
        "    all = np.arange(N)\n",
        "    return all[t]\n",
        "\n",
        "  elif mode==\"random_fixed\":\n",
        "    # print(\"in_random_fixed\")\n",
        "    # print(N)\n",
        "    # print(m)\n",
        "    t = np.random.choice(np.arange(N), size=m, replace=False)\n",
        "    return t\n",
        "\n",
        "  elif mode==\"threshold\":\n",
        "    if threshold is None:\n",
        "      threshold = 0.15\n",
        "    A_Pi_pre_bar = bar(A_Pi_pre)\n",
        "    a = np.abs(A_Pi_pre - A_Pi_pre_bar)\n",
        "    arg_sorted = np.argsort(a)\n",
        "    # N-1 is last index. N-k is kth greatest.\n",
        "    mth = a[arg_sorted[N-m]]\n",
        "    # print(mth)\n",
        "    mask = np.full(N, False)\n",
        "    mask[a == mth] = True\n",
        "    # print(mask)\n",
        "    num_eq = np.sum(mask)\n",
        "    # print(num_eq)\n",
        "    mask2 = np.full(m-1, False)\n",
        "    mask2[a[arg_sorted[N-m+1:]] == mth] = True\n",
        "    # print(mask2)\n",
        "    num_eq_aftr = np.sum(mask2)\n",
        "    aa = N - m + num_eq_aftr - num_eq + 1\n",
        "    bb = N - m + num_eq_aftr + 1\n",
        "    eq_indices = arg_sorted[aa:bb]\n",
        "    # print(eq_indices)\n",
        "    r = np.random.choice(eq_indices, num_eq_aftr+1, replace=False)\n",
        "    # print(r)\n",
        "    O = np.zeros(m, dtype=np.int32)\n",
        "    O[0:m-num_eq_aftr-1] = arg_sorted[N-m+1+num_eq_aftr:]\n",
        "    O[m-num_eq_aftr-1:] = r\n",
        "    res = O[a[O]> threshold]\n",
        "    # print(\"This is threshold result\")\n",
        "    # print(\"a\")\n",
        "    # print(a)\n",
        "    # print(\"O:\")\n",
        "    # print(O)\n",
        "    # print(\"a[O]\")\n",
        "    # print(a[O])\n",
        "    # print(O[a[O] > threshold])\n",
        "\n",
        "    return res\n",
        "\n",
        ""
      ],
      "id": "pAUdsLPledjh"
    },
    {
      "cell_type": "code",
      "execution_count": null,
      "metadata": {
        "id": "ECJdunG6n4EJ",
        "colab": {
          "base_uri": "https://localhost:8080/"
        },
        "outputId": "4a02a718-32a3-4a01-eb37-12fdfccd1f12"
      },
      "outputs": [
        {
          "output_type": "stream",
          "name": "stdout",
          "text": [
            "[0 1 2 3 4 5 6 7 8 9]\n"
          ]
        }
      ],
      "source": [
        "O = initiate_monitoring()\n",
        "print(O)"
      ],
      "id": "ECJdunG6n4EJ"
    },
    {
      "cell_type": "markdown",
      "metadata": {
        "id": "mZibPm0S9wrL"
      },
      "source": [
        "## Re-imaging\n"
      ],
      "id": "mZibPm0S9wrL"
    },
    {
      "cell_type": "code",
      "execution_count": null,
      "metadata": {
        "id": "F8C9MvXb94ih"
      },
      "outputs": [],
      "source": [
        "def reimage(X, mode=None, size=None):\n",
        "  global m\n",
        "  if size is None:\n",
        "    size = m\n",
        "  if mode is None or mode == 'random':\n",
        "    t = np.random.choice(np.arange(N), size, replace=False)\n",
        "    reimagedX = np.copy(X)\n",
        "    reimagedX[t] = 0\n",
        "    return reimagedX, t"
      ],
      "id": "F8C9MvXb94ih"
    },
    {
      "cell_type": "code",
      "execution_count": null,
      "metadata": {
        "id": "XxSqzd799uVv",
        "colab": {
          "base_uri": "https://localhost:8080/"
        },
        "outputId": "f1aa6c06-282f-453d-91aa-4453e77797d3"
      },
      "outputs": [
        {
          "output_type": "stream",
          "name": "stdout",
          "text": [
            "(array([0, 0, 0, 0, 0, 0, 0, 0, 0, 0]), array([4, 1, 8, 5, 2, 0, 7, 3, 6, 9]))\n"
          ]
        }
      ],
      "source": [
        "print(reimage(np.array([1, 1, 1 , 1, 1, 1, 1, 1, 0, 0])))"
      ],
      "id": "XxSqzd799uVv"
    },
    {
      "cell_type": "markdown",
      "metadata": {
        "id": "AUEo7eLGnUxj"
      },
      "source": [
        "## Create and Save Original Trajectory"
      ],
      "id": "AUEo7eLGnUxj"
    },
    {
      "cell_type": "code",
      "execution_count": null,
      "metadata": {
        "id": "YeDc-QCHFW2d"
      },
      "outputs": [],
      "source": [
        "def bool_to_int(arr):\n",
        "  l = arr.size\n",
        "  res = 0\n",
        "  factor2 = 1\n",
        "  for i in range(l-1, -1, -1):\n",
        "    res += factor2*arr[i]\n",
        "    factor2 *= 2\n",
        "  return res.astype(int)"
      ],
      "id": "YeDc-QCHFW2d"
    },
    {
      "cell_type": "code",
      "execution_count": null,
      "metadata": {
        "id": "e8ca4b60-ffc9-4257-900c-8d6d2d11987e",
        "colab": {
          "base_uri": "https://localhost:8080/"
        },
        "outputId": "27c2edd7-60bc-4773-fd9b-133ea6cf980d"
      },
      "outputs": [
        {
          "output_type": "stream",
          "name": "stdout",
          "text": [
            "[0.00097656 0.00097656 0.00097656 ... 0.00097656 0.00097656 0.00097656]\n"
          ]
        }
      ],
      "source": [
        "Pi_pre = np.full(2**N, 1/2**N)\n",
        "print(Pi_pre)\n",
        "# pre is initial state of machines.\n",
        "pre = 0"
      ],
      "id": "e8ca4b60-ffc9-4257-900c-8d6d2d11987e"
    },
    {
      "cell_type": "code",
      "execution_count": null,
      "metadata": {
        "id": "b04rbScanT2j"
      },
      "outputs": [],
      "source": [
        "T = 20\n",
        "max_num = 100\n",
        "mr = 1\n",
        "mm_list = [1, 2, 3, 4, 5, 6, 7, 8, 9, 10]\n",
        "X_gen_r = np.zeros((max_num, T, N))\n",
        "X_gen_nr = np.zeros((max_num, T, N))\n",
        "a_r = np.empty((max_num, T, m))\n",
        "m = mr\n",
        "for num in range(0, max_num):\n",
        "  pre = np.random.choice(np.arange(0,2**N), p=Pi_pre)\n",
        "  for t in range(0, T):\n",
        "    X_curr = A[:, pre]\n",
        "    X_gen_nr[num,t,:] = np.copy(X_curr)\n",
        "    ##########\n",
        "    X_r, a = reimage(X_curr)\n",
        "    # print(a)\n",
        "    X_gen_r[num,t,:] = np.copy(X_r)\n",
        "    a_r[num, t, :] = np.copy(a)\n",
        "    ##########\n",
        "    # print(X_r)\n",
        "    # print(pre)\n",
        "    pre = bool_to_int(X_r)\n",
        "    # print(transition_matrix[:, pre])\n",
        "    transition_matrix = corresponding_transition_matrix(a)\n",
        "    curr = np.random.choice(2**N, p=transition_matrix[:, pre])\n",
        "    pre = curr\n",
        "  np.save('X_r_m' + str(m) + '.npy', X_gen_r)\n",
        "  np.save('X_nr_m' + str(m) + '.npy', X_gen_nr)\n",
        "  np.save('re-image list' + str(m) + '.npy', a_r)"
      ],
      "id": "b04rbScanT2j"
    },
    {
      "cell_type": "code",
      "source": [
        "print(m)"
      ],
      "metadata": {
        "colab": {
          "base_uri": "https://localhost:8080/"
        },
        "id": "4mRWkcewGlNp",
        "outputId": "1d3b23f1-efe3-4279-f0b1-fd11f536f268"
      },
      "id": "4mRWkcewGlNp",
      "execution_count": null,
      "outputs": [
        {
          "output_type": "stream",
          "name": "stdout",
          "text": [
            "1\n"
          ]
        }
      ]
    },
    {
      "cell_type": "markdown",
      "metadata": {
        "id": "6hFpcxo2SjDl"
      },
      "source": [
        "## Evaluations"
      ],
      "id": "6hFpcxo2SjDl"
    },
    {
      "cell_type": "code",
      "execution_count": null,
      "metadata": {
        "id": "YGdbLUeVSoO9"
      },
      "outputs": [],
      "source": [
        "def evaluate(X_curr, X_est, error_list, tot_error_list, acc_list, i , T):\n",
        "      # Initialize\n",
        "      acc = 0\n",
        "      hamming = 0\n",
        "      abs = 0\n",
        "      if tot_error_list == []:\n",
        "        tot_error_list = np.zeros(T)\n",
        "      if acc_list == []:\n",
        "        acc_list = np.zeros(T)\n",
        "      # Calculation\n",
        "      if np.all(X_curr == X_est):\n",
        "        acc = 1\n",
        "      hamming = np.sum(np.abs(X_curr - X_est))\n",
        "      err = np.abs((X_curr - X_est)**2)\n",
        "      # Add to list\n",
        "      error_list.append(err)\n",
        "      tot_error_list[i] = hamming\n",
        "      acc_list[i] = acc\n",
        "      return error_list, tot_error_list, acc_list\n"
      ],
      "id": "YGdbLUeVSoO9"
    },
    {
      "cell_type": "markdown",
      "metadata": {
        "id": "JVn15KyheeF5"
      },
      "source": [
        "## Main Loop"
      ],
      "id": "JVn15KyheeF5"
    },
    {
      "cell_type": "code",
      "execution_count": null,
      "metadata": {
        "id": "e78f9d1f-470a-474b-8713-5e4a178a4f42",
        "colab": {
          "base_uri": "https://localhost:8080/"
        },
        "outputId": "966f574c-9453-4f99-f085-55375d28fda8"
      },
      "outputs": [
        {
          "output_type": "stream",
          "name": "stderr",
          "text": [
            "<ipython-input-29-0bd5e25768a9>:6: DeprecationWarning: elementwise comparison failed; this will raise an error in the future.\n",
            "  if tot_error_list == []:\n",
            "<ipython-input-29-0bd5e25768a9>:8: DeprecationWarning: elementwise comparison failed; this will raise an error in the future.\n",
            "  if acc_list == []:\n",
            "/usr/local/lib/python3.8/dist-packages/numpy/lib/npyio.py:528: VisibleDeprecationWarning: Creating an ndarray from ragged nested sequences (which is a list-or-tuple of lists-or-tuples-or ndarrays with different lengths or shapes) is deprecated. If you meant to do this, you must specify 'dtype=object' when creating the ndarray.\n",
            "  arr = np.asanyarray(arr)\n"
          ]
        }
      ],
      "source": [
        "# \"T\" is the number of iterations (number of state transitions).\n",
        "# T = 5\n",
        "global random_fixed\n",
        "random_fixed = []\n",
        "packed_for_m = []\n",
        "mr = 2\n",
        "for mm in mm_list:\n",
        "  m = mm\n",
        "  pre = 0\n",
        "  all_est_list, all_err_list, all_tot_err_list, all_acc_list, all_mon_list, all_rmg_list, all_MSE_list, all_MSE_each_list, all_MAP_list, all_MAP_each_list = [], [],  [], [], [], [], [], [], [], []\n",
        "  for num in range(0, max_num):\n",
        "    ####\n",
        "    X_est_list = []\n",
        "    error_list, tot_error_list, acc_list, monitor_list, reimage_list, MSE_list, MSE_each_list, MAP_list, MAP_each_list = [], [], [], [], [], [], [], [], []\n",
        "    Pi_pre = np.full(2**N, 1/2**N)\n",
        "    #####_create_\n",
        "    pre = np.random.choice(np.arange(0,2**N), p=Pi_pre)\n",
        "\n",
        "    #####_create_\n",
        "    O = initiate_monitoring(mode='random_fixed')\n",
        "    O = update_monitor(O, A_Pi_pre=np.matmul(A, Pi_pre), mode='random_fixed')\n",
        "    # print(O)\n",
        "    ### Trajectory Creation\n",
        "    for t in range(0, T):\n",
        "      ####################_create_\n",
        "      X_curr = A[:, pre]\n",
        "      X_k_r, at = reimage(X_curr, size=mr)\n",
        "      temp = pre\n",
        "      # print('X_k_r is: ' + str(X_k_r))\n",
        "      # print('X_k_nr is: ' + str(X_curr))\n",
        "      # pre = bool_to_int(X_r)\n",
        "      ####################_create_\n",
        "      # print(a_r[num, t,:])\n",
        "      # print('at is: ' + str(at))\n",
        "\n",
        "      # print(at)\n",
        "      transition_matrix_k = corresponding_transition_matrix(at)########################################################################\n",
        "      # print(np.sum(np.sum(transition_matrix_k[:,:], axis=0)))\n",
        "      # if(np.sum(np.sum(transition_matrix_k[:,:], axis=0))) != 1024:\n",
        "      #    print('break!!')\n",
        "      #    raise Exception\n",
        "      #    break\n",
        "      ####################_create_\n",
        "      curr = np.random.choice(2**N, p=transition_matrix_k[:, pre])\n",
        "      pre = curr\n",
        "      ####################_create_\n",
        "      # Use trajectory\n",
        "      # print(str(num) + \", \" + str(t) + \" is:\" )\n",
        "      # print(\"Pi_pre_ghable_update_vector is: \" + str(np.sum(Pi_pre)))\n",
        "      nominator = gain_update_vector(Y_curr=X_curr, a_pre= O) * Pi_pre\n",
        "      # if math.isnan(nominator[0]):\n",
        "      #   print(\"nan\")\n",
        "      #   raise Exception(\"nan\")\n",
        "\n",
        "      # print(\"Update Vector: \" + str(nominator))\n",
        "      # print(np.sum(nominator))\n",
        "      Pi_curr = nominator / np.sum(nominator)\n",
        "      # print(\"Pi_curr is:\" + str(Pi_curr))\n",
        "      # print(np.sum(Pi_curr))\n",
        "      X_est = np.full(N, False)\n",
        "      A_Pi_curr = np.matmul(A, Pi_curr)\n",
        "      # print(\"A_Pi_curr is: \" + str(A_Pi_curr))\n",
        "      X_est[A_Pi_curr > 0.5] = True\n",
        "      # print(\"X_est_is: \" + str(X_est))\n",
        "      MSE_each = np.abs(A_Pi_curr - X_est)\n",
        "      MSE = np.sum(MSE_each)\n",
        "      X_MAP = np.argmax(Pi_curr)\n",
        "      # print(X_MAP)\n",
        "      MAP_each = np.abs(A[:,temp] - A[:,X_MAP])    #####################\n",
        "      MAP = np.sum(MAP_each)\n",
        "      # print(MAP)\n",
        "      # print(\"MSE is: \" + str(MSE))\n",
        "      # print(\"X_est is: \" + str(X_est))\n",
        "      X_est_list.append(X_est)\n",
        "      MSE_list.append(MSE)\n",
        "      MSE_each_list.append(MSE_each)\n",
        "      MAP_each_list.append(MAP_each)\n",
        "      MAP_list.append(MAP)\n",
        "      # MAP_each_list.append(MAP_each)\n",
        "      error_list, tot_error_list, acc_list = evaluate(X_curr, X_est, error_list, tot_error_list, acc_list, t , T)\n",
        "      # print(\"Pi_pre is: \" + str(Pi_pre))\n",
        "      Pi_pre = np.matmul(transition_matrix_k, np.copy(Pi_curr))\n",
        "      # print(np.sum(Pi_pre))\n",
        "      # if math.isnan(Pi_pre[0]):\n",
        "        # print(\"nan in Pi_pre\")\n",
        "        # raise Exception(\"nan\")\n",
        "      A_Pi_pre = np.matmul(A, Pi_pre)\n",
        "      monitor_list.append(O)\n",
        "      reimage_list.append(at)\n",
        "      O = update_monitor(O, A_Pi_pre=A_Pi_pre, mode='random_fixed')\n",
        "      # print(\"O is: \" + str(O))\n",
        "        ####\n",
        "        ####\n",
        "\n",
        "    all_est_list.append(X_est_list)\n",
        "    all_err_list.append(error_list)\n",
        "    all_tot_err_list.append(tot_error_list)\n",
        "    all_acc_list.append(acc_list)\n",
        "    all_mon_list.append(monitor_list)\n",
        "    all_rmg_list.append(reimage_list)\n",
        "    all_MSE_list.append(MSE_list)\n",
        "    all_MSE_each_list.append(MSE_each_list)\n",
        "    all_MAP_each_list.append(MAP_each_list)\n",
        "    all_MAP_list.append(MAP_list)\n",
        "\n",
        "\n",
        "  random_fixed = (all_est_list, all_err_list, all_tot_err_list, all_acc_list, all_mon_list, all_MSE_list, all_MSE_each_list, all_rmg_list, all_MAP_list, all_MAP_each_list)\n",
        "  np.save('random_fixed_mm'+str(m)+'_mr_'+str(mr)+'.npy', random_fixed)\n",
        "\n",
        "        # print(\"Accuracy is: \" + str(np.sum(acc_list)/T))\n",
        "        # print(\"Mean tot error is: \" + str(np.sum(tot_error_list)/T))\n",
        "        # print(\"Mean error is: \" + str(np.sum(error_list)/T))\n",
        "\n",
        "\n"
      ],
      "id": "e78f9d1f-470a-474b-8713-5e4a178a4f42"
    },
    {
      "cell_type": "code",
      "source": [
        "print(max_num)"
      ],
      "metadata": {
        "colab": {
          "base_uri": "https://localhost:8080/"
        },
        "id": "WsG4ipH3X682",
        "outputId": "ed5c1840-3178-48d7-98a4-ce4aecfa548c"
      },
      "id": "WsG4ipH3X682",
      "execution_count": null,
      "outputs": [
        {
          "output_type": "stream",
          "name": "stdout",
          "text": [
            "100\n"
          ]
        }
      ]
    },
    {
      "cell_type": "markdown",
      "metadata": {
        "id": "Z8JHqAxKCZyC"
      },
      "source": [
        "# Diagrams"
      ],
      "id": "Z8JHqAxKCZyC"
    },
    {
      "cell_type": "code",
      "execution_count": null,
      "metadata": {
        "id": "OIbkFG6fP8Ri"
      },
      "outputs": [],
      "source": [
        "T = 20; m = 10; N = 10; max_num = 100"
      ],
      "id": "OIbkFG6fP8Ri"
    },
    {
      "cell_type": "code",
      "execution_count": null,
      "metadata": {
        "id": "ryikkz0J3hD4"
      },
      "outputs": [],
      "source": [
        "packed_for_m = np.load('random_fixed_mm'+str(3)+'_mr_'+str(1)+'.npy', allow_pickle=True)"
      ],
      "id": "ryikkz0J3hD4"
    },
    {
      "cell_type": "code",
      "source": [
        "print(packed_for_m)"
      ],
      "metadata": {
        "id": "e0e2Jv88azC8"
      },
      "id": "e0e2Jv88azC8",
      "execution_count": null,
      "outputs": []
    },
    {
      "cell_type": "code",
      "source": [
        "print(len(all_tot_err_list))"
      ],
      "metadata": {
        "colab": {
          "base_uri": "https://localhost:8080/"
        },
        "id": "XTWyiPv6AS3k",
        "outputId": "b17ee248-b12a-42bd-81fe-c7567183d406"
      },
      "id": "XTWyiPv6AS3k",
      "execution_count": null,
      "outputs": [
        {
          "output_type": "stream",
          "name": "stdout",
          "text": [
            "20\n"
          ]
        }
      ]
    },
    {
      "cell_type": "code",
      "source": [
        "print(np.shape(packed_for_m))\n",
        "for"
      ],
      "metadata": {
        "colab": {
          "base_uri": "https://localhost:8080/"
        },
        "id": "uyInaTataPyk",
        "outputId": "c33b4b55-8439-4509-aca7-0ad1a6175916"
      },
      "id": "uyInaTataPyk",
      "execution_count": null,
      "outputs": [
        {
          "output_type": "stream",
          "name": "stdout",
          "text": [
            "(7, 100, 20)\n"
          ]
        }
      ]
    },
    {
      "cell_type": "markdown",
      "metadata": {
        "id": "WTNg3GoAlX8g"
      },
      "source": [
        "### Total error\n"
      ],
      "id": "WTNg3GoAlX8g"
    },
    {
      "cell_type": "code",
      "execution_count": null,
      "metadata": {
        "id": "hHmVEzs-GbNU",
        "colab": {
          "base_uri": "https://localhost:8080/",
          "height": 622
        },
        "outputId": "ad65145c-fc4e-4cce-8939-83652e667696"
      },
      "outputs": [
        {
          "output_type": "stream",
          "name": "stderr",
          "text": [
            "WARNING:matplotlib.legend:No handles with labels found to put in legend.\n"
          ]
        },
        {
          "output_type": "stream",
          "name": "stdout",
          "text": [
            "[[3.0 4.0 3.0 ... 0.0 0.0 0.0]\n",
            " [6.0 2.0 2.0 ... 1.0 1.0 3.0]\n",
            " [4.0 3.0 1.0 ... 0.0 0.0 0.0]\n",
            " ...\n",
            " [3.0 3.0 3.0 ... 1.0 1.0 1.0]\n",
            " [3.0 2.0 0.0 ... 0.0 1.0 0.0]\n",
            " [3.0 2.0 2.0 ... 2.0 0.0 1.0]]\n"
          ]
        },
        {
          "output_type": "display_data",
          "data": {
            "text/plain": [
              "<Figure size 640x480 with 1 Axes>"
            ],
            "image/png": "[encoded data removed]"
          },
          "metadata": {}
        }
      ],
      "source": [
        "plt.rcdefaults()\n",
        "\n",
        "# plt.rcParams['figure.figsize'] = (6, 5)\n",
        "fontsize = 16\n",
        "\n",
        "# print(fixed)\n",
        "all_tot_err_list = packed_for_m[2]\n",
        "print(all_tot_err_list)\n",
        "mean_tot_err_list = np.zeros(T)\n",
        "# print(mean_tot_err_list.shape)\n",
        "# print(all_tot_err_list[num].shape)\n",
        "for num in range(0, max_num):\n",
        "  # print(all_tot_err_list[num].dtype)\n",
        "  # print(all_tot_err_list[num])\n",
        "  mean_tot_err_list += all_tot_err_list[num].astype('float64')\n",
        "mean_tot_err_list/= max_num\n",
        "X = np.arange(0, T)\n",
        "# plot\n",
        "plt.plot(X, mean_tot_err_list, linewidth=3)\n",
        "\n",
        "# plt.legend(loc='best',prop={'size': fontsize-2} )\n",
        "# plt.legend(bbox_to_anchor=(0.105,0.5,0.96,0.5), loc=\"upper right\", mode=\"expand\", ncol= 1, prop={'size': fontsize-2})\n",
        "# plt.legend(bbox_to_anchor=(0.105,0.5,0.96,0.5), loc=\"upper right\", mode=\"expand\", ncol= 1, prop={'size': fontsize-2})\n",
        "plt.legend()\n",
        "\n",
        "plt.xlim([0,T-1])\n",
        "plt.ylim([-0.05, 4.6])\n",
        "plt.xticks(ticks=X, labels=X+1, fontsize=fontsize-1)\n",
        "plt.ylabel(r'Average Error of Attack Detection', fontsize=fontsize, labelpad=15)\n",
        "plt.xlabel(r'Time', fontsize=fontsize, labelpad=15)\n",
        "plt.grid(color='gray', linestyle='-', linewidth=1, alpha=0.09)\n",
        "plt.yticks(np.arange(0,4.6,0.5), fontsize=fontsize-2)\n",
        "axes=plt.gca()\n",
        "plt.show()"
      ],
      "id": "hHmVEzs-GbNU"
    },
    {
      "cell_type": "markdown",
      "metadata": {
        "id": "1Ysu_6lUlgU4"
      },
      "source": [
        "### MSE"
      ],
      "id": "1Ysu_6lUlgU4"
    },
    {
      "cell_type": "code",
      "execution_count": null,
      "metadata": {
        "id": "WpnLU6eUiuA8",
        "colab": {
          "base_uri": "https://localhost:8080/",
          "height": 512
        },
        "outputId": "8274b549-d79d-4657-9465-690473e2cb2a"
      },
      "outputs": [
        {
          "output_type": "stream",
          "name": "stdout",
          "text": [
            "[3.33 1.52 0.96 0.61 0.48 0.45 0.61 0.42 0.44 0.4  0.36 0.43 0.48 0.35\n",
            " 0.52 0.41 0.45 0.5  0.38 0.27]\n"
          ]
        },
        {
          "output_type": "display_data",
          "data": {
            "text/plain": [
              "<Figure size 640x480 with 1 Axes>"
            ],
            "image/png": "[encoded data removed]"
          },
          "metadata": {}
        }
      ],
      "source": [
        "plt.rcdefaults()\n",
        "all_MSE_list = packed_for_m[2]\n",
        "mean_MSE_list = np.zeros(T)\n",
        "for num in range(0, max_num):\n",
        "  mean_MSE_list += all_MSE_list[num].astype('float64')\n",
        "mean_MSE_list/= max_num\n",
        "X = np.arange(0, T)\n",
        "plt.plot(X, mean_MSE_list, linewidth=3, label='MMSE', color='red')\n",
        "plt.legend(loc='best',prop={'size': fontsize-2} )\n",
        "plt.xlim([0,T-1])\n",
        "plt.ylim([0,4.6])\n",
        "plt.xticks(ticks=X, labels=X+1,  fontsize=fontsize-2)\n",
        "plt.ylabel(r'MSE', fontsize=fontsize, labelpad=15)\n",
        "plt.xlabel(r'Time', fontsize=fontsize, labelpad=15)\n",
        "plt.grid(color='gray', linestyle='-', linewidth=1, alpha=0.09)\n",
        "axes=plt.gca()\n",
        "plt.yticks(np.arange(0,4.6,0.5),  fontsize=fontsize-2)\n",
        "\n",
        "##########\n",
        "# print(packed_for_m[8])\n",
        "all_tot_err_list = packed_for_m[8]\n",
        "# print(all_tot_err_list)\n",
        "mean_tot_err_list = np.zeros(T)\n",
        "# print(mean_tot_err_list.shape)\n",
        "# print(all_tot_err_list[num].shape)\n",
        "for num in range(0, max_num):\n",
        "  # print(all_tot_err_list[num].dtype)\n",
        "  # print(all_tot_err_list[num])\n",
        "  mean_tot_err_list += all_tot_err_list[num].astype('float64')\n",
        "mean_tot_err_list/= max_num\n",
        "X = np.arange(0, T)\n",
        "# plot\n",
        "plt.plot(X, mean_tot_err_list, linewidth=3, label=\"MAP\", color='blue')\n",
        "print(mean_tot_err_list)\n",
        "plt.legend()\n",
        "\n",
        "\n",
        "##########\n",
        "\n",
        "\n",
        "plt.show()"
      ],
      "id": "WpnLU6eUiuA8"
    },
    {
      "cell_type": "markdown",
      "metadata": {
        "id": "1HQmnQOgQ9EN"
      },
      "source": [
        "### Total accuracy"
      ],
      "id": "1HQmnQOgQ9EN"
    },
    {
      "cell_type": "code",
      "execution_count": null,
      "metadata": {
        "id": "DNcGP2rMQ9EW"
      },
      "outputs": [],
      "source": [
        "# plt.rcdefaults()\n",
        "plt.rcParams['figure.figsize'] = (7, 5)\n",
        "for pack in packed_for_m:\n",
        "  (fixed, ours, random, alll, random_fixed, threshold) = pack\n",
        "  for mode in modes:\n",
        "    all_acc_list, mode_label, mode_color = mode_handler(mode, 3)\n",
        "    mean_acc_list = np.zeros(T)\n",
        "    for num in range(0, max_num):\n",
        "      mean_acc_list += all_acc_list[num]\n",
        "    mean_acc_list/= max_num\n",
        "    X = np.arange(0, T)\n",
        "    linestyle = '-'\n",
        "    if mode == 'all':\n",
        "      linestyle='dotted'\n",
        "    plt.plot(X, mean_acc_list, linewidth=3, label=mode_label, color=mode_color, linestyle=linestyle)\n",
        "  yticks = np.arange(11)/10\n",
        "  plt.xticks(ticks=X, labels=X+1, fontsize=fontsize-2)\n",
        "  plt.ylabel(r'Average Accuracy of Attack Detection', fontsize=fontsize, labelpad=15)\n",
        "  plt.xlabel(r'Time', fontsize=fontsize, labelpad=15)\n",
        "  plt.grid(color='gray', linestyle='-', linewidth=1, alpha=0.09)\n",
        "  # plt.legend(loc='best',prop={'size': fontsize-2} )\n",
        "  plt.xlim([0,T-1])\n",
        "  plt.ylim([0.05,1])\n",
        "  plt.yticks(ticks=yticks, labels=yticks, fontsize=fontsize-2)\n",
        "  plt.show()"
      ],
      "id": "DNcGP2rMQ9EW"
    },
    {
      "cell_type": "markdown",
      "metadata": {
        "id": "8sGsYAYHnkDV"
      },
      "source": [
        "### Total accuracy + Together (m= 1, 4, 9)"
      ],
      "id": "8sGsYAYHnkDV"
    },
    {
      "cell_type": "code",
      "execution_count": null,
      "metadata": {
        "id": "HGyEsjUgnkDW"
      },
      "outputs": [],
      "source": [
        "# fontsize = 22\n",
        "modes_color = [\"#0000FF\" , \"#FF0000\", \"#A52A2A\"]\n",
        "m_bypass = 0\n",
        "m_h = 0\n",
        "one_time = False\n",
        "for pack in packed_for_m:\n",
        "  (fixed, ours, random, alll, random_fixed, threshold) = pack\n",
        "  m_bypass += 1\n",
        "  if (m_bypass != 1) and (m_bypass != 4) and (m_bypass != 9):\n",
        "    continue\n",
        "  m_h += 1\n",
        "  for mode in modes:\n",
        "    if (mode!=\"threshold\" and mode!=\"ours\" and mode!=\"all\") or (mode==\"all\" and one_time): continue;\n",
        "    all_acc_list, mode_label, mode_color = mode_handler(mode, 3)\n",
        "    mean_acc_list = np.zeros(T)\n",
        "    for num in range(0, max_num):\n",
        "      mean_acc_list += all_acc_list[num]\n",
        "    mean_acc_list/= max_num\n",
        "    X = np.arange(0, T)\n",
        "    linestyle = '-'\n",
        "    if mode == 'all':\n",
        "      linestyle='dotted'\n",
        "      one_time = True\n",
        "      mode_label = \"All Nodes Monitoring (Baseline)\"\n",
        "      mode_color = \"#000000\"\n",
        "    elif mode == 'threshold':\n",
        "      mode_color = modes_color[m_h-1]\n",
        "      mode_label = 'Adaptive Resource Monitoring ($m=$'+str(m_bypass) + \")\"\n",
        "    elif mode == 'ours':\n",
        "      mode_color = modes_color[m_h-1]\n",
        "      mode_label = 'Fixed Resource Monitoring ($m=$'+str(m_bypass) + \")\"\n",
        "      linestyle='dashed'\n",
        "    plt.plot(X, mean_acc_list, linewidth=3, label=mode_label, color=mode_color, linestyle=linestyle)\n",
        "yticks = np.arange(11)/10\n",
        "plt.xticks(ticks=X, labels=X+1, fontsize=fontsize-2)\n",
        "plt.ylabel(r'Average Accuracy of Attack Detection', fontsize=fontsize, labelpad=15)\n",
        "plt.xlabel(r'Time', fontsize=fontsize, labelpad=15)\n",
        "plt.grid(color='gray', linestyle='-', linewidth=1, alpha=0.09)\n",
        "# plt.legend(loc='best',prop={'size': fontsize-2} )\n",
        "plt.xlim([0,T-1])\n",
        "plt.ylim([0.05,1])\n",
        "plt.yticks(ticks=yticks, labels=yticks, fontsize=fontsize-2)\n",
        "plt.show()"
      ],
      "id": "HGyEsjUgnkDW"
    },
    {
      "cell_type": "markdown",
      "metadata": {
        "id": "rZwBv14jm7jo"
      },
      "source": [
        "### Node monitoring histogram"
      ],
      "id": "rZwBv14jm7jo"
    },
    {
      "cell_type": "code",
      "execution_count": null,
      "metadata": {
        "id": "NVNE054tA9Cp"
      },
      "outputs": [],
      "source": [
        "plt.rcdefaults()\n",
        "plt.rcParams['figure.figsize'] = [8,6]\n",
        "for pack in packed_for_m:\n",
        "  (fixed, ours, random, alll, random_fixed, threshold) = pack\n",
        "  all_mon_list_threshold = threshold[4]\n",
        "  all_mon_list_ours = ours[4]\n",
        "  all_mon_list_random_fixed = random_fixed[4]\n",
        "  fontsize = 16\n",
        "  occurance_threshold = np.zeros(N)\n",
        "  occurance_ours = np.zeros(N)\n",
        "  occurance_random_fixed = np.zeros(N)\n",
        "\n",
        "  for i in range(0, N):\n",
        "    for arr in packed:\n",
        "      for arr2 in arr:\n",
        "        occurance_threshold[i] += np.sum(arr2 == i)\n",
        "  for i in range(0, N):\n",
        "    for arr in all_mon_list_ours:\n",
        "      for arr2 in arr:\n",
        "          occurance_ours[i] += np.sum(arr2 == i)\n",
        "  for i in range(0, N):\n",
        "    for arr in all_mon_list_random_fixed:\n",
        "        for arr2 in arr:\n",
        "          occurance_random_fixed[i] += np.sum(arr2 == i)\n",
        "\n",
        "  width = 0.25  # the width of the bars\n",
        "  # mean_mon_list_threshold = occurance_threshold\n",
        "  # mean_mon_list_ours = occurance_ours\n",
        "  mean_mon_list_threshold = occurance_threshold/max_num\n",
        "  mean_mon_list_ours = occurance_ours/max_num\n",
        "  mean_mon_list_random_fixed =occurance_random_fixed/max_num\n",
        "  fig1, ax1 = plt.subplots()\n",
        "  rects2 = ax1.bar(np.arange(N), mean_mon_list_ours, width ,label=mode_labels[0],color=mode_colors[0], alpha=0.75, edgecolor=\"black\")\n",
        "  rects1 = ax1.bar(np.arange(N)-width, mean_mon_list_threshold, width, label=mode_labels[1],color=mode_colors[1], alpha=0.75,edgecolor=\"black\" )\n",
        "  rects3 = ax1.bar(np.arange(N)+width, mean_mon_list_random_fixed, width, label=mode_labels[2],color=mode_colors[2], alpha=0.75,edgecolor=\"black\" )\n",
        "\n",
        "  ax1.set_xticks(np.arange(N))\n",
        "  ax1.yaxis.set_tick_params(labelsize=fontsize-1)\n",
        "  ax1.set_xticklabels(np.arange(N)+1, fontsize=fontsize-1)\n",
        "  ax1.set_ylabel(r'Average Number of Monitoring Each Node', fontsize=fontsize, labelpad=15)\n",
        "  ax1.set_xlabel(r'Node', fontsize=fontsize, labelpad=15)\n",
        "  ax1.legend(prop={'size': fontsize-2})\n",
        "  ax1.grid(color='gray', linestyle='-', linewidth=1, alpha=0.09)\n",
        "  fig1.tight_layout()\n",
        "# plt.show()\n",
        "\n"
      ],
      "id": "NVNE054tA9Cp"
    },
    {
      "cell_type": "markdown",
      "metadata": {
        "id": "xfHGeahBMS4k"
      },
      "source": [
        "### Adaptive Resource Monitoring"
      ],
      "id": "xfHGeahBMS4k"
    },
    {
      "cell_type": "code",
      "execution_count": null,
      "metadata": {
        "id": "pvHXhDChMS48"
      },
      "outputs": [],
      "source": [
        "plt.rcdefaults()\n",
        "plt.rcParams['figure.figsize'] = [9,7]\n",
        "\n",
        "for pack in packed_for_m:\n",
        "  (fixed, ours, random, alll, random_fixed, threshold) = pack\n",
        "  all_mon_list_threshold = threshold[4]\n",
        "\n",
        "  fontsize = 22\n",
        "  occurance_threshold = np.zeros(T)\n",
        "  i =0\n",
        "  for arr in all_mon_list_threshold:\n",
        "    i = 0\n",
        "    for arr2 in arr:\n",
        "      occurance_threshold[i] += len(arr2)\n",
        "      i += 1\n",
        "\n",
        "  width = 2.5  # the width of the bars\n",
        "  # mean_mon_list_threshold = occurance_threshold\n",
        "  # mean_mon_list_ours = occurance_ours\n",
        "  mean_mon_list_threshold = occurance_threshold/max_num\n",
        "\n",
        "  fig1, ax1 = plt.subplots()\n",
        "  rects1 = ax1.plot(np.arange(N), mean_mon_list_threshold, linewidth=3, label=mode_labels[1],color=mode_colors[1], alpha=0.75 )\n",
        "  ax1.set_xticks(np.arange(N))\n",
        "  ax1.yaxis.set_tick_params(labelsize=fontsize-1)\n",
        "  ax1.set_xticklabels(np.arange(N)+1, fontsize=fontsize-1)\n",
        "  ax1.set_ylabel(r'Average Number of Monitored Nodes', fontsize=fontsize, labelpad=15)\n",
        "  ax1.set_xlabel(r'Time', fontsize=fontsize, labelpad=15)\n",
        "  ax1.legend(prop={'size': fontsize-2})\n",
        "  ax1.grid(color='gray', linestyle='-', linewidth=1, alpha=0.09)\n",
        "  plt.xlim([0,T-1])\n",
        "  plt.ylim([0.2,m+0.05])\n",
        "  fig1.tight_layout()\n",
        "  plt.show()\n"
      ],
      "id": "pvHXhDChMS48"
    },
    {
      "cell_type": "markdown",
      "metadata": {
        "id": "jpLId_TrghW6"
      },
      "source": [
        "### Adaptive Resource Monitoring + Together (m= 1, 4, 9)"
      ],
      "id": "jpLId_TrghW6"
    },
    {
      "cell_type": "code",
      "execution_count": null,
      "metadata": {
        "id": "4F0iyNUTghW7"
      },
      "outputs": [],
      "source": [
        "plt.rcdefaults()\n",
        "plt.rcParams['figure.figsize'] = [7, 5]\n",
        "\n",
        "fig1, ax1 = plt.subplots()\n",
        "m_mode_colors = [\"#0000FF\" , \"#FF0000\", \"#A52A2A\"]\n",
        "m_bypass = 0\n",
        "m_h = 0\n",
        "\n",
        "for pack in packed_for_m:\n",
        "  m_bypass += 1\n",
        "  if (m_bypass != 1) and (m_bypass != 4) and (m_bypass != 9):\n",
        "    continue\n",
        "  m_h += 1\n",
        "  (fixed, ours, random, alll, random_fixed, threshold) = pack\n",
        "  all_mon_list_threshold = threshold[4]\n",
        "\n",
        "  fontsize = 14\n",
        "  occurance_threshold = np.zeros(T)\n",
        "  i =0\n",
        "  # for i in range(0, T):\n",
        "  for arr in all_mon_list_threshold:\n",
        "    i = 0\n",
        "    for arr2 in arr:\n",
        "      occurance_threshold[i] += len(arr2)\n",
        "      # print(len(arr2))\n",
        "      i += 1\n",
        "\n",
        "  width = 2.5  # the width of the bars\n",
        "  # mean_mon_list_threshold = occurance_threshold\n",
        "  # mean_mon_list_ours = occurance_ours\n",
        "  mean_mon_list_threshold = occurance_threshold/max_num\n",
        "  label = 'Adaptive Resource Monitoring ($m=$'+str(m_bypass) + \")\"\n",
        "  ax1.plot(np.arange(N), mean_mon_list_threshold, linewidth=3, label=label,color=m_mode_colors[m_h-1], alpha=0.75)\n",
        "  label = 'Fixed Resource Monitoring ($m=$'+str(m_bypass) + \")\"\n",
        "  ax1.plot(np.arange(N), np.arange(N)*0 + m_bypass, linewidth=3, label=label,color=m_mode_colors[m_h-1], alpha=0.75, linestyle = \"dashed\" )\n",
        "\n",
        "ax1.plot(np.arange(N), np.arange(N)*0 + 10, linewidth=3, label=\"All Nodes Monitoring (Baseline)\",color=mode_colors[4], alpha=0.75, linestyle = \"dotted\" )\n",
        "\n",
        "ax1.set_xticks(np.arange(N))\n",
        "ax1.yaxis.set_tick_params(labelsize=fontsize-1)\n",
        "ax1.set_xticklabels(np.arange(N)+1, fontsize=fontsize-1)\n",
        "ax1.set_ylabel(r'Average Number of Monitored Nodes', fontsize=fontsize, labelpad=15)\n",
        "ax1.set_xlabel(r'Time', fontsize=fontsize, labelpad=15)\n",
        "# ax1.legend(bbox_to_anchor=(-1.4, 0.1, 2,2), loc='upper center', mode=\"expand\", ncol= 2, prop={'size': fontsize-2})\n",
        "ax1.grid(color='gray', linestyle='-', linewidth=1, alpha=0.09)\n",
        "plt.xlim([0,T-1])\n",
        "plt.ylim([0.2,N+0.05])\n",
        "fig1.tight_layout()\n",
        "\n",
        "\n",
        "plt.show()\n"
      ],
      "id": "4F0iyNUTghW7"
    },
    {
      "cell_type": "markdown",
      "metadata": {
        "id": "Qei6b4sHEkhs"
      },
      "source": [
        "### Average total num of monitored nodes"
      ],
      "id": "Qei6b4sHEkhs"
    },
    {
      "cell_type": "code",
      "execution_count": null,
      "metadata": {
        "id": "9yDVBthPEkhs"
      },
      "outputs": [],
      "source": [
        "plt.rcdefaults()\n",
        "plt.rcParams['figure.figsize'] = [7,5]\n",
        "fig1, ax1 = plt.subplots()\n",
        "fontsize = 14\n",
        "mean_of_mean = np.zeros(m)\n",
        "l = (len(modes)-1)/2\n",
        "j=0\n",
        "for mode in modes:\n",
        "  if mode == 'all':\n",
        "    continue\n",
        "  i=0\n",
        "  num = np.zeros(N)\n",
        "  for pack in packed_for_m:\n",
        "    mean_of_mean = np.zeros(m)\n",
        "\n",
        "    i += 1\n",
        "    (fixed, ours, random, alll, random_fixed, threshold) = pack\n",
        "    all_mon_list, mode_label, mode_color= mode_handler(mode, 4)\n",
        "    for arr in all_mon_list:\n",
        "      for arr2 in arr:\n",
        "        num[i-1] += len(arr2)\n",
        "\n",
        "  num = num/(max_num)\n",
        "  width = 0.18  # the width of the bars\n",
        "  j += 1\n",
        "    # mean_mon_list_random_fixed =occurance_random_fixed/max_num\n",
        "  rects2 = ax1.bar(np.arange(N) + (-width*l + (j)*width - width/2 ), num, width ,label=mode_label,color=mode_color, alpha=0.75, edgecolor=\"black\")\n",
        "ax1.set_xticks(np.arange(N))\n",
        "ax1.set_yticks(np.arange(N+1)*T)\n",
        "ax1.yaxis.set_tick_params(labelsize=fontsize-1)\n",
        "ax1.set_xticklabels(np.arange(N)+1, fontsize=fontsize-1)\n",
        "ax1.set_ylabel(r' Average Total Number of Monitored Nodes', fontsize=fontsize, labelpad=15)\n",
        "ax1.set_xlabel(r'Number of Monitoring Nodes (m)', fontsize=fontsize, labelpad=15)\n",
        "# ax1.legend(bbox_to_anchor=(-1.2, 0.2, 2,2.35), loc='upper center', mode=\"expand\", ncol= 2, prop={'size': fontsize-2})\n",
        "ax1.grid(color='gray', linestyle='-', linewidth=1, alpha=0.09)\n",
        "fig1.tight_layout()\n",
        "plt.show()"
      ],
      "id": "9yDVBthPEkhs"
    },
    {
      "cell_type": "markdown",
      "metadata": {
        "id": "fJPhmrcLLr2k"
      },
      "source": [
        "### Average total error"
      ],
      "id": "fJPhmrcLLr2k"
    },
    {
      "cell_type": "code",
      "execution_count": null,
      "metadata": {
        "id": "CX0xm8wXLr2l"
      },
      "outputs": [],
      "source": [
        "plt.rcdefaults()\n",
        "plt.rcParams['figure.figsize'] = [7,5]\n",
        "\n",
        "fig1, ax1 = plt.subplots()\n",
        "# all_mon_list_random_fixed = random_fixed[4]\n",
        "fontsize = 14\n",
        "mean_of_mean = np.zeros(m)\n",
        "num_ours = np.zeros(m)\n",
        "# num_random_fixed = np.zeros(m)\n",
        "l = len(modes)/2\n",
        "j=0\n",
        "for mode in modes:\n",
        "  mean_of_mean = np.zeros(N)\n",
        "  i=0\n",
        "  for pack in packed_for_m:\n",
        "\n",
        "    i += 1\n",
        "    (fixed, ours, random, alll, random_fixed, threshold) = pack\n",
        "    all_tot_err_list, mode_label, mode_color= mode_handler(mode, 2)\n",
        "    mean_tot_err_list = np.zeros(T)\n",
        "    for num in range(0, max_num):\n",
        "      mean_tot_err_list += all_tot_err_list[num]\n",
        "    mean_of_mean[i-1] = np.sum(mean_tot_err_list)/(T  * max_num)\n",
        "\n",
        "    width = 0.18  # the width of the bars\n",
        "  j += 1\n",
        "  # mean_mon_list_random_fixed =occurance_random_fixed/max_num\n",
        "  rects2 = ax1.bar(np.arange(N) + (-width*l + (j)*width - width/2), mean_of_mean, width ,label=mode_label,color=mode_color, alpha=0.75, edgecolor=\"black\")\n",
        "  # rects1 = ax1.bar(np.arange(m)+width/2, mean_mon_list_threshold, width, label=mode_labels[1],color=mode_colors[1], alpha=0.75,edgecolor=\"black\" )\n",
        "  # # rects3 = ax1.bar(np.arange(m)+width, mean_mon_list_random_fixed, width, label=mode_labels[2],color=mode_colors[2], alpha=0.75,edgecolor=\"black\" )\n",
        "ax1.set_xticks(np.arange(N))\n",
        "ax1.yaxis.set_tick_params(labelsize=fontsize-1)\n",
        "ax1.set_xticklabels(np.arange(N)+1, fontsize=fontsize-1)\n",
        "ax1.set_ylabel(r' Average Total Error', fontsize=fontsize, labelpad=15)\n",
        "ax1.set_xlabel(r'm', fontsize=fontsize, labelpad=15)\n",
        "# ax1.legend(bbox_to_anchor=(-1.2, 0.2, 2,2.35), loc='upper center', mode=\"expand\", ncol= 2, prop={'size': fontsize-2})\n",
        "ax1.grid(color='gray', linestyle='-', linewidth=1, alpha=0.09)\n",
        "fig1.tight_layout()\n",
        "axes=plt.gca()\n",
        "axes.set_aspect(5, adjustable='box')\n",
        "plt.show()\n"
      ],
      "id": "CX0xm8wXLr2l"
    },
    {
      "cell_type": "markdown",
      "metadata": {
        "id": "LvD2fQmdL9gb"
      },
      "source": [
        "## Plots for Different $q$"
      ],
      "id": "LvD2fQmdL9gb"
    },
    {
      "cell_type": "code",
      "execution_count": null,
      "metadata": {
        "id": "nquf_XixOkTD"
      },
      "outputs": [],
      "source": [
        "from pickle import FALSE\n",
        "packed_for_q_list = []\n",
        "q_list = [0, 0.1, 0.2, 0.3, 0.4, 0.5, 0.6, 0.7, 0.8, 0.9, 1]\n",
        "first_time = False\n",
        "for q in q_list:\n",
        "  packed_for_m = np.load('packed_for_m2q' + str(q) + '.npy', allow_pickle=True)\n",
        "  for pack in packed_for_m:\n",
        "    if first_time:\n",
        "      break\n",
        "    if q == 0.2:\n",
        "      first_time = True\n",
        "      continue\n",
        "    break\n",
        "  packed_for_q_list.append(pack)"
      ],
      "id": "nquf_XixOkTD"
    },
    {
      "cell_type": "markdown",
      "metadata": {
        "id": "LRx9uqaO1y_d"
      },
      "source": [
        "### Average Total Error - Measuring Noise error (q) - bar"
      ],
      "id": "LRx9uqaO1y_d"
    },
    {
      "cell_type": "code",
      "execution_count": null,
      "metadata": {
        "id": "6ZYjHi6Co_kf"
      },
      "outputs": [],
      "source": [
        "fixed, ours, random, alll, random_fixed, threshold = [], [], [], [], [], []\n",
        "modes = ['all', 'threshold', 'ours', 'random_fixed', 'fixed']"
      ],
      "id": "6ZYjHi6Co_kf"
    },
    {
      "cell_type": "code",
      "execution_count": null,
      "metadata": {
        "id": "VlDZEKGC1y_e"
      },
      "outputs": [],
      "source": [
        "# all_mon_list_random_fixed = random_fixed[4]\n",
        "plt.rcdefaults()\n",
        "plt.rcParams['figure.figsize'] = [7,5]\n",
        "fig1, ax1 = plt.subplots()\n",
        "fontsize = 14\n",
        "mean_of_mean = np.zeros(m)\n",
        "l = len(modes)/2\n",
        "j=0\n",
        "for mode in modes:\n",
        "  mean_of_mean = np.zeros(len(q_list))\n",
        "  i=0\n",
        "  for pack in packed_for_q_list:\n",
        "    i += 1\n",
        "    # print(pack[0][0][2])\n",
        "    (fixed, ours, random, alll, random_fixed, threshold) = pack\n",
        "    # print(fixed[4][0][0])\n",
        "    # print(random[4])\n",
        "    all_tot_err_list, mode_label, mode_color= mode_handler(mode, 2)\n",
        "    mean_tot_err_list = np.zeros(T)\n",
        "    for num in range(0, max_num):\n",
        "      # print(all_tot_err_list[num])\n",
        "      mean_tot_err_list += all_tot_err_list[num]\n",
        "    # mean_of_mean[i-1] = np.sum(mean_tot_err_list)/(T  * max_num)\n",
        "    mean_of_mean[i-1] = np.sum(mean_tot_err_list)/(max_num)\n",
        "    # print(mean_of_mean)\n",
        "    width = 0.009  # the width of the bars\n",
        "    j += 1\n",
        "    # mean_mon_list_random_fixed =occurance_random_fixed/max_num\n",
        "    # rects2 = ax1.bar(np.arange(len(q_list)) + (-width*l + (j)*width  - width/2), mean_of_mean, width ,label=mode_label,color=mode_color, alpha=0.75, edgecolor=\"black\")\n",
        "    # print(mean_of_mean)\n",
        "  linestyle = \"solid\"\n",
        "  if mode=='all':\n",
        "    linestyle = \"dotted\"\n",
        "  rects2 = ax1.plot(np.array(q_list) , mean_of_mean, linewidth = 3 ,label=mode_label,color=mode_color, alpha=0.75, linestyle =linestyle)\n",
        "  # rects1 = ax1.bar(np.arange(m)+width/2, mean_mon_list_threshold, width, label=mode_labels[1],color=mode_colors[1], alpha=0.75,edgecolor=\"black\" )\n",
        "  # # rects3 = ax1.bar(np.arange(m)+width, mean_mon_list_random_fixed, width, label=mode_labels[2],color=mode_colors[2], alpha=0.75,edgecolor=\"black\" )\n",
        "\n",
        "ax1.set_xticks(np.array(q_list))\n",
        "ax1.yaxis.set_tick_params(labelsize=fontsize-1)\n",
        "ax1.set_xticklabels(np.array(q_list), fontsize=fontsize-1)\n",
        "ax1.set_ylabel(r' Average Total Error', fontsize=fontsize, labelpad=15)\n",
        "ax1.set_xlabel(r'Measurement Noise (q)', fontsize=fontsize, labelpad=15)\n",
        "ax1.legend(bbox_to_anchor=(-1.2, 0.2, 2,2.35), loc='upper center', mode=\"expand\", ncol= 2, prop={'size': fontsize-2})\n",
        "ax1.grid(color='gray', linestyle='-', linewidth=1, alpha=0.09)\n",
        "plt.show()\n"
      ],
      "id": "VlDZEKGC1y_e"
    },
    {
      "cell_type": "markdown",
      "metadata": {
        "id": "Md-A6IQhI-54"
      },
      "source": [
        "### Test\n"
      ],
      "id": "Md-A6IQhI-54"
    },
    {
      "cell_type": "code",
      "execution_count": null,
      "metadata": {
        "id": "kZpWUQXvPXRq"
      },
      "outputs": [],
      "source": [
        "pre = 56\n",
        "curr = 40\n",
        "ai = np.array([0,1,2,3, 5])\n",
        "X_prev = A[:, pre]\n",
        "X_curr = A[:, curr]\n",
        "# Sum of columns should be 1: Pre is Col, Curr is Row.\n",
        "res = np.zeros(N)\n",
        "Als = set_Als(raw_Als, X_prev, ai)\n",
        "prob_successfuly_compromised = Als * (1-leaf_rhos) + leaf_rhos\n",
        "# print(\"prob:\" + str(prob_successfuly_compromised))\n",
        "# print(\"THis is Als for \" + str(X_prev))\n",
        "# print(Als)\n",
        "# pre = 0, curr = 0\n",
        "# if res[ai]==1:\n",
        "#   print(res[[ai]])\n",
        "print(prob_successfuly_compromised)\n",
        "res_ai = res[ai]\n",
        "res[(X_prev==0) & (X_curr == 0)] = 1 - prob_successfuly_compromised[(X_prev==0) & (X_curr == 0)]\n",
        "res_ai[(X_prev[ai]==0) & (X_curr[ai] == 0)] = 1\n",
        "print(res)\n",
        "print(res_ai)\n",
        "# pre = 0, curr = 1\n",
        "res[(X_prev==0) & (X_curr == 1)] = prob_successfuly_compromised[(X_prev==0) & (X_curr == 1)]\n",
        "print(res)\n",
        "res_ai[(X_prev[ai]==0) & (X_curr[ai] == 1)] = 0\n",
        "print(res)\n",
        "print(res_ai)\n",
        "# pre = 1, curr = 0\n",
        "res_ai[(X_prev[ai]==1) & (X_curr[ai] == 0)] = 1\n",
        "print(res)\n",
        "print(res_ai)\n",
        "# pre = 1, curr = 1\n",
        "res[(X_prev==1) & (X_curr == 1)] = 1\n",
        "res_ai[(X_prev[ai]==1) & (X_curr[ai] == 1)] = 0\n",
        "print(res)\n",
        "print(res_ai)\n",
        "res[ai] = res_ai\n",
        "print(res)\n",
        "probability_of_state_transition = np.prod(res)\n",
        "print(probability_of_state_transition)\n"
      ],
      "id": "kZpWUQXvPXRq"
    },
    {
      "cell_type": "code",
      "execution_count": null,
      "metadata": {
        "id": "QEb5mFcTTiqc"
      },
      "outputs": [],
      "source": [
        "X = np.array([0, 0, 1, 1, 0])\n",
        "Y = np.array([0, 0, 0, 0, 0])\n",
        "a = np.array([1, 2, 3])\n",
        "res = np.zeros(5)\n",
        "print(a[0])"
      ],
      "id": "QEb5mFcTTiqc"
    },
    {
      "cell_type": "code",
      "execution_count": null,
      "metadata": {
        "id": "Q-yI55U1nYOX"
      },
      "outputs": [],
      "source": [
        "res[a][(X[a]==0) & (Y[a]==0)] = 2"
      ],
      "id": "Q-yI55U1nYOX"
    },
    {
      "cell_type": "code",
      "execution_count": null,
      "metadata": {
        "id": "L5NS2RYJnvK_"
      },
      "outputs": [],
      "source": [
        "print(res[a])\n",
        "print(X[a]==0)\n",
        "print(Y[a]==0)"
      ],
      "id": "L5NS2RYJnvK_"
    },
    {
      "cell_type": "code",
      "execution_count": null,
      "metadata": {
        "id": "JyjRa8DooCjP"
      },
      "outputs": [],
      "source": [
        "res_a = res[a]\n",
        "res_a[(X[a]==0) & (Y[a]==0)] = 2\n",
        "res[a]=res_a\n",
        "print(res)"
      ],
      "id": "JyjRa8DooCjP"
    },
    {
      "cell_type": "code",
      "execution_count": null,
      "metadata": {
        "id": "iergwrWHoLn4"
      },
      "outputs": [],
      "source": [
        "res[a][(X[a]==0) & (Y[a]==0)] = 3\n",
        "print(res[a])"
      ],
      "id": "iergwrWHoLn4"
    },
    {
      "cell_type": "code",
      "execution_count": null,
      "metadata": {
        "id": "s-9zLRSguWMe"
      },
      "outputs": [],
      "source": [
        "X = np.array([[0, 1, 3],[ 2, 4, 5]])\n",
        "\n",
        "print(X[1])"
      ],
      "id": "s-9zLRSguWMe"
    },
    {
      "cell_type": "code",
      "execution_count": null,
      "metadata": {
        "id": "o_W1ffJD_1eu"
      },
      "outputs": [],
      "source": [
        "\n",
        "B = np.array([[ 0, 1, 0, 0, 0, 0], [1, 1, 1, 0, 0, 1], [1, 1, 1, 1, 1, 0], [1, 1, 1, 1, 1, 0], [1, 1, 1, 1, 1, 0], [1, 1, 1, 1, 1, 0]])\n",
        "X = np.array([1, 0, 1, 0, 1, 1])\n",
        "t = np.array([1, 1, 1, 1, 1, 1])\n",
        "t[X[B[:,1]==True]==True] = 0\n",
        "print(t)"
      ],
      "id": "o_W1ffJD_1eu"
    },
    {
      "cell_type": "code",
      "execution_count": null,
      "metadata": {
        "id": "nTBpdFEYMfij"
      },
      "outputs": [],
      "source": [
        "print(X[B[:,0]==True])"
      ],
      "id": "nTBpdFEYMfij"
    },
    {
      "cell_type": "markdown",
      "metadata": {
        "id": "Wd8GRDxKANfF"
      },
      "source": [],
      "id": "Wd8GRDxKANfF"
    },
    {
      "cell_type": "code",
      "source": [
        "raise Exception"
      ],
      "metadata": {
        "colab": {
          "base_uri": "https://localhost:8080/",
          "height": 166
        },
        "id": "9zCPAcUZPiMF",
        "outputId": "f0087086-4ad3-4cb6-a5f4-5069d1d7e677"
      },
      "id": "9zCPAcUZPiMF",
      "execution_count": null,
      "outputs": [
        {
          "output_type": "error",
          "ename": "Exception",
          "evalue": "ignored",
          "traceback": [
            "\u001b[0;31m---------------------------------------------------------------------------\u001b[0m",
            "\u001b[0;31mException\u001b[0m                                 Traceback (most recent call last)",
            "\u001b[0;32m<ipython-input-96-2aee0157c87b>\u001b[0m in \u001b[0;36m<module>\u001b[0;34m\u001b[0m\n\u001b[0;32m----> 1\u001b[0;31m \u001b[0;32mraise\u001b[0m \u001b[0mException\u001b[0m\u001b[0;34m\u001b[0m\u001b[0;34m\u001b[0m\u001b[0m\n\u001b[0m",
            "\u001b[0;31mException\u001b[0m: "
          ]
        }
      ]
    }
  ],
  "metadata": {
    "colab": {
      "collapsed_sections": [
        "5d7f9d6b-2046-454f-aaa9-645fbd4d6106",
        "IAybFoKJNxbQ",
        "iQCSy3fYeWTJ",
        "mZibPm0S9wrL",
        "6hFpcxo2SjDl"
      ],
      "provenance": []
    },
    "gpuClass": "standard",
    "kernelspec": {
      "display_name": "Python 3 (ipykernel)",
      "language": "python",
      "name": "python3"
    },
    "language_info": {
      "codemirror_mode": {
        "name": "ipython",
        "version": 3
      },
      "file_extension": ".py",
      "mimetype": "text/x-python",
      "name": "python",
      "nbconvert_exporter": "python",
      "pygments_lexer": "ipython3",
      "version": "3.7.13"
    }
  },
  "nbformat": 4,
  "nbformat_minor": 5
}